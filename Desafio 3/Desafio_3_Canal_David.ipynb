{
 "cells": [
  {
   "cell_type": "markdown",
   "metadata": {
    "id": "63tqiGZ787NC"
   },
   "source": [
    "<img src=\"https://github.com/hernancontigiani/ceia_memorias_especializacion/raw/master/Figures/logoFIUBA.jpg\" width=\"500\" align=\"center\">\n",
    "\n",
    "# **Procesamiento de lenguaje natural - Desafio 3**\n",
    "---\n",
    "# *\"Modelo de lenguaje con tokenización por caracteres\"*\n",
    "---\n",
    "##**Laboratorio de Sistemas Embebidos**                                  \n",
    "##**David Canal**"
   ]
  },
  {
   "cell_type": "markdown",
   "metadata": {
    "id": "kB9ABXpC87ND"
   },
   "source": [
    "---\n",
    "##**Consigna de trabajo**\n",
    "\n",
    "- Seleccionar un corpus de texto sobre el cual entrenar el modelo de lenguaje.\n",
    "- Realizar el pre-procesamiento adecuado para tokenizar el corpus, estructurar el dataset y separar entre datos de entrenamiento y validación.\n",
    "- Proponer arquitecturas de redes neuronales basadas en unidades recurrentes para implementar un modelo de lenguaje.\n",
    "- Con el o los modelos que consideren adecuados, generar nuevas secuencias a partir de secuencias de contexto con las estrategias de greedy search y beam search determístico y estocástico. En este último caso observar el efecto de la temperatura en la generación de secuencias.\n",
    "\n",
    "##**Sugerencias**\n",
    "- Durante el entrenamiento, guiarse por el descenso de la perplejidad en los datos de validación para finalizar el entrenamiento. Para ello se provee un callback.\n",
    "- Explorar utilizar SimpleRNN (celda de Elman), LSTM y GRU.\n",
    "- rmsprop es el optimizador recomendado para la buena convergencia. No obstante se pueden explorar otros.\n"
   ]
  },
  {
   "cell_type": "markdown",
   "metadata": {
    "id": "BZ0twdKW87NE"
   },
   "source": [
    "##**Resolución**\n",
    "---\n",
    "## **1. Selección del Dataset**\n",
    "\n",
    "### Análisis de la elección del corpus\n",
    "\n",
    "Para este desafio, se seleccionó \"El Quijote\" de Miguel de Cervantes como corpus principal. Esta elección se sustenta en los siguientes puntos:\n",
    "\n",
    "1. Riqueza lingüística: texto clásico en español con vocabulario extenso y estructuras gramaticales complejas.\n",
    "2. Tamaño apropiado: suficientemente grande para entrenar un modelo robusto pero manejable\n",
    "3. Diversidad textual: mezcla de narración, diálogos y descripciones.\n",
    "4. Desafío técnico: texto del siglo XVII con expresiones arcaicas que pondrá a prueba la capacidad del modelo.\n",
    "\n",
    "A modo de comparación, también se utilizaron fragmentos de \"Cien años de soledad\" de Gabriel García Márquez. Esto permitirá evaluar el comportamiento del modelo frente a diferentes estilos literarios.\n"
   ]
  },
  {
   "cell_type": "code",
   "execution_count": 74,
   "metadata": {},
   "outputs": [
    {
     "name": "stdout",
     "output_type": "stream",
     "text": [
      "Requirement already satisfied: pandas in /Users/dcanal1820/miniforge/lib/python3.12/site-packages (2.3.3)\n",
      "Requirement already satisfied: matplotlib in /Users/dcanal1820/miniforge/lib/python3.12/site-packages (3.10.7)\n",
      "Requirement already satisfied: scikit-learn in /Users/dcanal1820/miniforge/lib/python3.12/site-packages (1.7.2)\n",
      "Requirement already satisfied: bs4 in /Users/dcanal1820/miniforge/lib/python3.12/site-packages (0.0.2)\n",
      "Requirement already satisfied: tensorflow in /Users/dcanal1820/miniforge/lib/python3.12/site-packages (2.20.0)\n",
      "Requirement already satisfied: numpy>=1.26.0 in /Users/dcanal1820/miniforge/lib/python3.12/site-packages (from pandas) (2.3.4)\n",
      "Requirement already satisfied: python-dateutil>=2.8.2 in /Users/dcanal1820/miniforge/lib/python3.12/site-packages (from pandas) (2.9.0.post0)\n",
      "Requirement already satisfied: pytz>=2020.1 in /Users/dcanal1820/miniforge/lib/python3.12/site-packages (from pandas) (2025.2)\n",
      "Requirement already satisfied: tzdata>=2022.7 in /Users/dcanal1820/miniforge/lib/python3.12/site-packages (from pandas) (2025.2)\n",
      "Requirement already satisfied: contourpy>=1.0.1 in /Users/dcanal1820/miniforge/lib/python3.12/site-packages (from matplotlib) (1.3.3)\n",
      "Requirement already satisfied: cycler>=0.10 in /Users/dcanal1820/miniforge/lib/python3.12/site-packages (from matplotlib) (0.12.1)\n",
      "Requirement already satisfied: fonttools>=4.22.0 in /Users/dcanal1820/miniforge/lib/python3.12/site-packages (from matplotlib) (4.60.1)\n",
      "Requirement already satisfied: kiwisolver>=1.3.1 in /Users/dcanal1820/miniforge/lib/python3.12/site-packages (from matplotlib) (1.4.9)\n",
      "Requirement already satisfied: packaging>=20.0 in /Users/dcanal1820/miniforge/lib/python3.12/site-packages (from matplotlib) (25.0)\n",
      "Requirement already satisfied: pillow>=8 in /Users/dcanal1820/miniforge/lib/python3.12/site-packages (from matplotlib) (11.3.0)\n",
      "Requirement already satisfied: pyparsing>=3 in /Users/dcanal1820/miniforge/lib/python3.12/site-packages (from matplotlib) (3.2.5)\n",
      "Requirement already satisfied: scipy>=1.8.0 in /Users/dcanal1820/miniforge/lib/python3.12/site-packages (from scikit-learn) (1.16.2)\n",
      "Requirement already satisfied: joblib>=1.2.0 in /Users/dcanal1820/miniforge/lib/python3.12/site-packages (from scikit-learn) (1.5.2)\n",
      "Requirement already satisfied: threadpoolctl>=3.1.0 in /Users/dcanal1820/miniforge/lib/python3.12/site-packages (from scikit-learn) (3.6.0)\n",
      "Requirement already satisfied: beautifulsoup4 in /Users/dcanal1820/miniforge/lib/python3.12/site-packages (from bs4) (4.14.2)\n",
      "Requirement already satisfied: absl-py>=1.0.0 in /Users/dcanal1820/miniforge/lib/python3.12/site-packages (from tensorflow) (2.3.1)\n",
      "Requirement already satisfied: astunparse>=1.6.0 in /Users/dcanal1820/miniforge/lib/python3.12/site-packages (from tensorflow) (1.6.3)\n",
      "Requirement already satisfied: flatbuffers>=24.3.25 in /Users/dcanal1820/miniforge/lib/python3.12/site-packages (from tensorflow) (25.9.23)\n",
      "Requirement already satisfied: gast!=0.5.0,!=0.5.1,!=0.5.2,>=0.2.1 in /Users/dcanal1820/miniforge/lib/python3.12/site-packages (from tensorflow) (0.6.0)\n",
      "Requirement already satisfied: google_pasta>=0.1.1 in /Users/dcanal1820/miniforge/lib/python3.12/site-packages (from tensorflow) (0.2.0)\n",
      "Requirement already satisfied: libclang>=13.0.0 in /Users/dcanal1820/miniforge/lib/python3.12/site-packages (from tensorflow) (18.1.1)\n",
      "Requirement already satisfied: opt_einsum>=2.3.2 in /Users/dcanal1820/miniforge/lib/python3.12/site-packages (from tensorflow) (3.4.0)\n",
      "Requirement already satisfied: protobuf>=5.28.0 in /Users/dcanal1820/miniforge/lib/python3.12/site-packages (from tensorflow) (6.33.0)\n",
      "Requirement already satisfied: requests<3,>=2.21.0 in /Users/dcanal1820/miniforge/lib/python3.12/site-packages (from tensorflow) (2.32.4)\n",
      "Requirement already satisfied: setuptools in /Users/dcanal1820/miniforge/lib/python3.12/site-packages (from tensorflow) (80.9.0)\n",
      "Requirement already satisfied: six>=1.12.0 in /Users/dcanal1820/miniforge/lib/python3.12/site-packages (from tensorflow) (1.17.0)\n",
      "Requirement already satisfied: termcolor>=1.1.0 in /Users/dcanal1820/miniforge/lib/python3.12/site-packages (from tensorflow) (3.1.0)\n",
      "Requirement already satisfied: typing_extensions>=3.6.6 in /Users/dcanal1820/miniforge/lib/python3.12/site-packages (from tensorflow) (4.15.0)\n",
      "Requirement already satisfied: wrapt>=1.11.0 in /Users/dcanal1820/miniforge/lib/python3.12/site-packages (from tensorflow) (1.17.3)\n",
      "Requirement already satisfied: grpcio<2.0,>=1.24.3 in /Users/dcanal1820/miniforge/lib/python3.12/site-packages (from tensorflow) (1.75.1)\n",
      "Requirement already satisfied: tensorboard~=2.20.0 in /Users/dcanal1820/miniforge/lib/python3.12/site-packages (from tensorflow) (2.20.0)\n",
      "Requirement already satisfied: keras>=3.10.0 in /Users/dcanal1820/miniforge/lib/python3.12/site-packages (from tensorflow) (3.11.3)\n",
      "Requirement already satisfied: h5py>=3.11.0 in /Users/dcanal1820/miniforge/lib/python3.12/site-packages (from tensorflow) (3.15.1)\n",
      "Requirement already satisfied: ml_dtypes<1.0.0,>=0.5.1 in /Users/dcanal1820/miniforge/lib/python3.12/site-packages (from tensorflow) (0.5.3)\n",
      "Requirement already satisfied: charset_normalizer<4,>=2 in /Users/dcanal1820/miniforge/lib/python3.12/site-packages (from requests<3,>=2.21.0->tensorflow) (3.4.2)\n",
      "Requirement already satisfied: idna<4,>=2.5 in /Users/dcanal1820/miniforge/lib/python3.12/site-packages (from requests<3,>=2.21.0->tensorflow) (3.10)\n",
      "Requirement already satisfied: urllib3<3,>=1.21.1 in /Users/dcanal1820/miniforge/lib/python3.12/site-packages (from requests<3,>=2.21.0->tensorflow) (2.5.0)\n",
      "Requirement already satisfied: certifi>=2017.4.17 in /Users/dcanal1820/miniforge/lib/python3.12/site-packages (from requests<3,>=2.21.0->tensorflow) (2025.8.3)\n",
      "Requirement already satisfied: markdown>=2.6.8 in /Users/dcanal1820/miniforge/lib/python3.12/site-packages (from tensorboard~=2.20.0->tensorflow) (3.9)\n",
      "Requirement already satisfied: tensorboard-data-server<0.8.0,>=0.7.0 in /Users/dcanal1820/miniforge/lib/python3.12/site-packages (from tensorboard~=2.20.0->tensorflow) (0.7.2)\n",
      "Requirement already satisfied: werkzeug>=1.0.1 in /Users/dcanal1820/miniforge/lib/python3.12/site-packages (from tensorboard~=2.20.0->tensorflow) (3.1.3)\n",
      "Requirement already satisfied: wheel<1.0,>=0.23.0 in /Users/dcanal1820/miniforge/lib/python3.12/site-packages (from astunparse>=1.6.0->tensorflow) (0.45.1)\n",
      "Requirement already satisfied: rich in /Users/dcanal1820/miniforge/lib/python3.12/site-packages (from keras>=3.10.0->tensorflow) (14.2.0)\n",
      "Requirement already satisfied: namex in /Users/dcanal1820/miniforge/lib/python3.12/site-packages (from keras>=3.10.0->tensorflow) (0.1.0)\n",
      "Requirement already satisfied: optree in /Users/dcanal1820/miniforge/lib/python3.12/site-packages (from keras>=3.10.0->tensorflow) (0.17.0)\n",
      "Requirement already satisfied: MarkupSafe>=2.1.1 in /Users/dcanal1820/miniforge/lib/python3.12/site-packages (from werkzeug>=1.0.1->tensorboard~=2.20.0->tensorflow) (3.0.3)\n",
      "Requirement already satisfied: soupsieve>1.2 in /Users/dcanal1820/miniforge/lib/python3.12/site-packages (from beautifulsoup4->bs4) (2.8)\n",
      "Requirement already satisfied: markdown-it-py>=2.2.0 in /Users/dcanal1820/miniforge/lib/python3.12/site-packages (from rich->keras>=3.10.0->tensorflow) (4.0.0)\n",
      "Requirement already satisfied: pygments<3.0.0,>=2.13.0 in /Users/dcanal1820/miniforge/lib/python3.12/site-packages (from rich->keras>=3.10.0->tensorflow) (2.19.2)\n",
      "Requirement already satisfied: mdurl~=0.1 in /Users/dcanal1820/miniforge/lib/python3.12/site-packages (from markdown-it-py>=2.2.0->rich->keras>=3.10.0->tensorflow) (0.1.2)\n",
      "Note: you may need to restart the kernel to use updated packages.\n"
     ]
    }
   ],
   "source": [
    "%pip install pandas matplotlib scikit-learn bs4 tensorflow"
   ]
  },
  {
   "cell_type": "code",
   "execution_count": 75,
   "metadata": {
    "id": "OLEYjCoE87NE"
   },
   "outputs": [],
   "source": [
    "# Importación de librerías necesarias\n",
    "import random\n",
    "import io\n",
    "import pickle\n",
    "import urllib.request\n",
    "import re\n",
    "import time\n",
    "\n",
    "import random\n",
    "import io\n",
    "import pickle\n",
    "\n",
    "import numpy as np\n",
    "import pandas as pd\n",
    "import matplotlib.pyplot as plt\n",
    "from sklearn.model_selection import train_test_split\n",
    "\n",
    "# descargar de textos.info\n",
    "import urllib.request\n",
    "\n",
    "# Para leer y parsear el texto en HTML de wikipedia\n",
    "import bs4 as bs"
   ]
  },
  {
   "cell_type": "code",
   "execution_count": 76,
   "metadata": {},
   "outputs": [],
   "source": [
    "from tensorflow import keras\n",
    "from tensorflow.keras import layers\n",
    "from keras.utils import to_categorical\n",
    "from keras.models import Sequential\n",
    "from keras.layers import Dense, LSTM, Embedding, Dropout\n",
    "from tensorflow.keras.losses import SparseCategoricalCrossentropy"
   ]
  },
  {
   "cell_type": "code",
   "execution_count": 77,
   "metadata": {
    "colab": {
     "base_uri": "https://localhost:8080/"
    },
    "executionInfo": {
     "elapsed": 351,
     "status": "ok",
     "timestamp": 1760886816681,
     "user": {
      "displayName": "David Canal",
      "userId": "10004429400973296543"
     },
     "user_tz": -120
    },
    "id": "vDQvhcj687NE",
    "outputId": "c5012c41-ce2f-409b-cb36-fa62cbeb0180"
   },
   "outputs": [
    {
     "name": "stdout",
     "output_type": "stream",
     "text": [
      "Texto descargado exitosamente\n",
      "Longitud del texto: 2,127,523 caracteres\n",
      "Primeras 500 caracteres:\n",
      "--------------------------------------------------\n",
      "Capítulo primero. Que trata de la condición y ejercicio del famoso hidalgo\n",
      "don Quijote de la Mancha\n",
      "\n",
      "En un lugar de la Mancha, de cuyo nombre no quiero acordarme, no ha mucho\n",
      "tiempo que vivía un hidalgo de los de lanza en astillero, adarga antigua,\n",
      "rocín flaco y galgo corredor. Una olla de algo más vaca que carnero,\n",
      "salpicón las más noches, duelos y quebrantos los sábados, lantejas los\n",
      "viernes, algún palomino de añadidura los domingos, consumían las tres\n",
      "partes de su hacienda. El resto d\n",
      "--------------------------------------------------\n"
     ]
    }
   ],
   "source": [
    "# Descarga y procesamiento del dataset - El Quijote\n",
    "\n",
    "try:\n",
    "    # Descargar desde el Proyecto Gutenberg (versión en español)\n",
    "    url_quijote = \"https://www.gutenberg.org/files/2000/2000-0.txt\"\n",
    "    response = urllib.request.urlopen(url_quijote)\n",
    "    raw_text = response.read().decode('utf-8')\n",
    "\n",
    "    # Limpiar el texto - remover headers y footers del Gutenberg\n",
    "    lines = raw_text.split('\\n')\n",
    "    start_idx = 0\n",
    "    end_idx = len(lines)\n",
    "\n",
    "    # Encontrar el inicio del texto real\n",
    "    for i, line in enumerate(lines):\n",
    "        if 'PRIMERA PARTE' in line or 'Capítulo' in line:\n",
    "            start_idx = i\n",
    "            break\n",
    "\n",
    "    # Encontrar el final del texto\n",
    "    for i in range(len(lines)-1, -1, -1):\n",
    "        if 'End of Project Gutenberg' in lines[i] or 'FIN' in lines[i]:\n",
    "            end_idx = i\n",
    "            break\n",
    "\n",
    "    # Extraer solo el texto del libro\n",
    "    quijote_lines = lines[start_idx:end_idx]\n",
    "    quijote_text = '\\n'.join(quijote_lines)\n",
    "\n",
    "    print(f\"Texto descargado exitosamente\")\n",
    "    print(f\"Longitud del texto: {len(quijote_text):,} caracteres\")\n",
    "    print(f\"Primeras 500 caracteres:\")\n",
    "    print(\"-\" * 50)\n",
    "    print(quijote_text[:500])\n",
    "    print(\"-\" * 50)\n",
    "\n",
    "except Exception as e:\n",
    "    print(f\"Error descargando El Quijote: {e}\")\n",
    "    print(\"Usando texto de respaldo...\")\n",
    "\n",
    "    # Texto de respaldo si falla la descarga\n",
    "    quijote_text = \"\"\"\n",
    "    En un lugar de la Mancha, de cuyo nombre no quiero acordarme, no ha mucho tiempo que vivía un hidalgo de los de lanza en astillero, adarga antigua, rocín flaco y galgo corredor. Una olla de algo más vaca que carnero, salpicón las más noches, duelos y quebrantos los sábados, lentejas los viernes, algún palomino de añadidura los domingos, consumían las tres partes de su hacienda. El resto della concluían sayo de velarte, calzas de velludo para las fiestas, con sus pantuflos de lo mesmo, y los días de entresemana se honraba con su vellorí de lo más fino.\n",
    "    \"\"\"\n"
   ]
  },
  {
   "cell_type": "code",
   "execution_count": 78,
   "metadata": {
    "colab": {
     "base_uri": "https://localhost:8080/"
    },
    "executionInfo": {
     "elapsed": 170,
     "status": "ok",
     "timestamp": 1760886843520,
     "user": {
      "displayName": "David Canal",
      "userId": "10004429400973296543"
     },
     "user_tz": -120
    },
    "id": "rwog_42u87NE",
    "outputId": "e8912368-3e40-4c7f-febf-d66dbcb2b727"
   },
   "outputs": [
    {
     "name": "stdout",
     "output_type": "stream",
     "text": [
      "Preprocesando el texto...\n",
      "Texto truncado a 100,000 caracteres para eficiencia\n",
      "Texto final: 100,000 caracteres\n",
      "Muestra del texto procesado:\n",
      "--------------------------------------------------\n",
      "capítulo primero. que trata de la condición y ejercicio del famoso hidalgo don quijote de la mancha en un lugar de la mancha, de cuyo nombre no quiero acordarme, no ha mucho tiempo que vivía un hidalgo de los de lanza en astillero, adarga antigua, rocín flaco y galgo corredor. una olla de algo más v\n",
      "--------------------------------------------------\n"
     ]
    }
   ],
   "source": [
    "# Preprocesamiento del texto\n",
    "print(\"Preprocesando el texto...\")\n",
    "\n",
    "# Convertir a minúsculas y limpiar\n",
    "quijote_text = quijote_text.lower()\n",
    "\n",
    "# Remover caracteres especiales pero mantener puntuación básica\n",
    "# Mantenemos: letras, números, espacios, puntuación básica\n",
    "quijote_text = re.sub(r'[^\\w\\s.,!?;:()\"-]', '', quijote_text)\n",
    "\n",
    "# Normalizar espacios múltiples\n",
    "quijote_text = re.sub(r'\\s+', ' ', quijote_text)\n",
    "\n",
    "# Limitar el tamaño del texto para entrenamiento eficiente\n",
    "max_text_length = 100000  # 100k caracteres\n",
    "if len(quijote_text) > max_text_length:\n",
    "    quijote_text = quijote_text[:max_text_length]\n",
    "    print(f\"Texto truncado a {max_text_length:,} caracteres para eficiencia\")\n",
    "\n",
    "print(f\"Texto final: {len(quijote_text):,} caracteres\")\n",
    "print(f\"Muestra del texto procesado:\")\n",
    "print(\"-\" * 50)\n",
    "print(quijote_text[:300])\n",
    "print(\"-\" * 50)\n"
   ]
  },
  {
   "cell_type": "markdown",
   "metadata": {
    "id": "2TX4J_UH87NE"
   },
   "source": [
    "---\n",
    "## **2. Tokenización por Caracteres**\n",
    "\n",
    "En este trabajo se optó por la tokenización por caracteres, ya que ofrece varias ventajas prácticas para el tipo de análisis realizado. Este enfoque utiliza un vocabulario mucho más pequeño (alrededor de 100 caracteres únicos), lo que evita los problemas de palabras desconocidas y permite procesar cualquier texto sin limitaciones. Además, brinda flexibilidad al modelo, ya que puede generar palabras nuevas no vistas durante el entrenamiento, y resulta más sencillo de implementar al no requerir diccionarios complejos.\n",
    "\n",
    "Si bien este método implica manejar secuencias más largas y un mayor costo computacional, se consideró que sus beneficios (particularmente la capacidad de generalizar y adaptarse a distintos estilos literarios) lo hacen adecuado para el objetivo del trabajo.\n"
   ]
  },
  {
   "cell_type": "code",
   "execution_count": 79,
   "metadata": {
    "colab": {
     "base_uri": "https://localhost:8080/"
    },
    "executionInfo": {
     "elapsed": 33,
     "status": "ok",
     "timestamp": 1760887026335,
     "user": {
      "displayName": "David Canal",
      "userId": "10004429400973296543"
     },
     "user_tz": -120
    },
    "id": "omNfcles87NE",
    "outputId": "4cdfa00f-0c62-43b0-8d88-b9265cc831d6"
   },
   "outputs": [
    {
     "name": "stdout",
     "output_type": "stream",
     "text": [
      "Analizando vocabulario de caracteres\n",
      "Tamaño del vocabulario: 42 caracteres únicos\n",
      "Caracteres encontrados: [' ', '!', '\"', '(', ')', ',', '-', '.', ':', ';', '?', 'a', 'b', 'c', 'd', 'e', 'f', 'g', 'h', 'i', 'j', 'l', 'm', 'n', 'o', 'p', 'q', 'r', 's', 't', 'u', 'v', 'x', 'y', 'z', 'á', 'é', 'í', 'ñ', 'ó', 'ú', 'ü']\n",
      "Diccionarios creados:\n",
      "   - char2idx: 42 mapeos\n",
      "   - idx2char: 42 mapeos\n",
      "\n",
      " Top 20 caracteres más frecuentes:\n",
      "    1. ' ' -> 18,246 veces (18.25%)\n",
      "    2. 'e' -> 10,541 veces (10.54%)\n",
      "    3. 'a' ->  9,749 veces (9.75%)\n",
      "    4. 'o' ->  7,352 veces (7.35%)\n",
      "    5. 's' ->  5,793 veces (5.79%)\n",
      "    6. 'n' ->  5,038 veces (5.04%)\n",
      "    7. 'r' ->  4,866 veces (4.87%)\n",
      "    8. 'l' ->  4,798 veces (4.80%)\n",
      "    9. 'd' ->  4,211 veces (4.21%)\n",
      "   10. 'u' ->  3,791 veces (3.79%)\n",
      "   11. 'i' ->  3,402 veces (3.40%)\n",
      "   12. 'c' ->  2,853 veces (2.85%)\n",
      "   13. 't' ->  2,826 veces (2.83%)\n",
      "   14. 'm' ->  2,051 veces (2.05%)\n",
      "   15. ',' ->  1,904 veces (1.90%)\n",
      "   16. 'p' ->  1,682 veces (1.68%)\n",
      "   17. 'q' ->  1,537 veces (1.54%)\n",
      "   18. 'b' ->  1,389 veces (1.39%)\n",
      "   19. 'y' ->  1,141 veces (1.14%)\n",
      "   20. 'h' ->    900 veces (0.90%)\n"
     ]
    }
   ],
   "source": [
    "# Análisis del vocabulario de caracteres\n",
    "print(\"Analizando vocabulario de caracteres\")\n",
    "\n",
    "# Obtener vocabulario único de caracteres\n",
    "chars_vocab = set(quijote_text)\n",
    "vocab_size = len(chars_vocab)\n",
    "\n",
    "print(f\"Tamaño del vocabulario: {vocab_size} caracteres únicos\")\n",
    "print(f\"Caracteres encontrados: {sorted(chars_vocab)}\")\n",
    "\n",
    "# Crear diccionarios de mapeo\n",
    "char2idx = {char: idx for idx, char in enumerate(sorted(chars_vocab))}\n",
    "idx2char = {idx: char for char, idx in char2idx.items()}\n",
    "\n",
    "print(f\"Diccionarios creados:\")\n",
    "print(f\"   - char2idx: {len(char2idx)} mapeos\")\n",
    "print(f\"   - idx2char: {len(idx2char)} mapeos\")\n",
    "\n",
    "# Análisis de frecuencia de caracteres\n",
    "char_freq = {}\n",
    "for char in quijote_text:\n",
    "    char_freq[char] = char_freq.get(char, 0) + 1\n",
    "\n",
    "# Mostrar los 20 caracteres más frecuentes\n",
    "sorted_chars = sorted(char_freq.items(), key=lambda x: x[1], reverse=True)\n",
    "print(f\"\\n Top 20 caracteres más frecuentes:\")\n",
    "for i, (char, freq) in enumerate(sorted_chars[:20]):\n",
    "    print(f\"   {i+1:2d}. '{char}' -> {freq:6,} veces ({freq/len(quijote_text)*100:.2f}%)\")\n"
   ]
  },
  {
   "cell_type": "code",
   "execution_count": 80,
   "metadata": {
    "colab": {
     "base_uri": "https://localhost:8080/",
     "height": 517
    },
    "executionInfo": {
     "elapsed": 782,
     "status": "ok",
     "timestamp": 1760887032140,
     "user": {
      "displayName": "David Canal",
      "userId": "10004429400973296543"
     },
     "user_tz": -120
    },
    "id": "K3Iyh5vd87NF",
    "outputId": "66103075-0d58-4ce6-bc79-4f033fd9276d"
   },
   "outputs": [
    {
     "data": {
      "image/png": "[encoded data removed]",
      "text/plain": [
       "<Figure size 1500x800 with 2 Axes>"
      ]
     },
     "metadata": {},
     "output_type": "display_data"
    },
    {
     "name": "stdout",
     "output_type": "stream",
     "text": [
      "Estadísticas del vocabulario:\n",
      "   - Caracteres únicos: 42\n",
      "   - Caracter más frecuente: ' ' (18,246 veces)\n",
      "   - Caracter menos frecuente: ')' (3 veces)\n",
      "   - Entropía del texto: 4.19 bits\n"
     ]
    }
   ],
   "source": [
    "# Visualización de la distribución de caracteres\n",
    "plt.figure(figsize=(15, 8))\n",
    "\n",
    "# Gráfico de barras de los caracteres más frecuentes\n",
    "top_chars = sorted_chars[:15]\n",
    "chars, freqs = zip(*top_chars)\n",
    "\n",
    "plt.subplot(1, 2, 1)\n",
    "bars = plt.bar(range(len(chars)), freqs, color='skyblue', edgecolor='navy', alpha=0.7)\n",
    "plt.xlabel('Caracteres')\n",
    "plt.ylabel('Frecuencia')\n",
    "plt.title('Top 15 Caracteres Más Frecuentes')\n",
    "plt.xticks(range(len(chars)), chars, rotation=45)\n",
    "\n",
    "# Agregar valores en las barras\n",
    "for bar, freq in zip(bars, freqs):\n",
    "    plt.text(bar.get_x() + bar.get_width()/2, bar.get_height() + max(freqs)*0.01,\n",
    "             f'{freq:,}', ha='center', va='bottom', fontsize=8)\n",
    "\n",
    "# Gráfico de distribución general\n",
    "plt.subplot(1, 2, 2)\n",
    "all_freqs = [freq for char, freq in sorted_chars]\n",
    "plt.hist(all_freqs, bins=20, color='lightcoral', edgecolor='darkred', alpha=0.7)\n",
    "plt.xlabel('Frecuencia')\n",
    "plt.ylabel('Número de Caracteres')\n",
    "plt.title('Distribución de Frecuencias de Caracteres')\n",
    "plt.yscale('log')\n",
    "\n",
    "plt.tight_layout()\n",
    "plt.show()\n",
    "\n",
    "print(f\"Estadísticas del vocabulario:\")\n",
    "print(f\"   - Caracteres únicos: {vocab_size}\")\n",
    "print(f\"   - Caracter más frecuente: '{sorted_chars[0][0]}' ({sorted_chars[0][1]:,} veces)\")\n",
    "print(f\"   - Caracter menos frecuente: '{sorted_chars[-1][0]}' ({sorted_chars[-1][1]:,} veces)\")\n",
    "print(f\"   - Entropía del texto: {sum(-freq/len(quijote_text) * np.log2(freq/len(quijote_text)) for char, freq in char_freq.items()):.2f} bits\")\n"
   ]
  },
  {
   "cell_type": "markdown",
   "metadata": {
    "id": "ECRqMTU687NF"
   },
   "source": [
    "---\n",
    "## **3. Elección del tamaño de contexto**\n",
    " Para la elección del tamaño del contexto se consideraron los siguiente puntos:\n",
    "* Memoria computacional: contextos largos requieren más memoria.\n",
    "* Dependencias temporales: texto necesita contexto suficiente para coherencia.\n",
    "* Tiempo de entrenamiento: secuencias largas aumentan el tiempo de entrenamiento.\n",
    "* Calidad de generación: contexto muy corto puede generar texto incoherente.\n",
    "\n",
    "Para abordar estos puntos, se procedió a analizar la distribución de longitudes de las oraciones presentes en el corpus, con el objetivo de identificar un rango representativo. A partir de este análisis, se eligió un percentil que permitiera capturar la mayoría de los patrones lingüísticos relevantes, manteniendo un equilibrio adecuado entre la coherencia del texto y la eficiencia computacional del modelo."
   ]
  },
  {
   "cell_type": "code",
   "execution_count": 81,
   "metadata": {
    "colab": {
     "base_uri": "https://localhost:8080/",
     "height": 669
    },
    "executionInfo": {
     "elapsed": 1121,
     "status": "ok",
     "timestamp": 1760887485458,
     "user": {
      "displayName": "David Canal",
      "userId": "10004429400973296543"
     },
     "user_tz": -120
    },
    "id": "zdYaJn4u87NF",
    "outputId": "3e867709-2203-4906-bbb5-884858ccb60e"
   },
   "outputs": [
    {
     "name": "stdout",
     "output_type": "stream",
     "text": [
      "Analizando longitudes de secuencias\n",
      "Estadísticas de longitudes de oraciones:\n",
      "   - Número de oraciones: 453\n",
      "   - Longitud promedio: 218.7 caracteres\n",
      "   - Longitud mediana: 175.0 caracteres\n",
      "   - Longitud mínima: 11 caracteres\n",
      "   - Longitud máxima: 1456 caracteres\n",
      "   - Desviación estándar: 183.1 caracteres\n",
      "\n",
      " Percentiles de longitud:\n",
      "   - P50: 175.0 caracteres\n",
      "   - P75: 285.0 caracteres\n",
      "   - P90: 437.6 caracteres\n",
      "   - P95: 542.2 caracteres\n",
      "   - P99: 803.7 caracteres\n"
     ]
    },
    {
     "data": {
      "image/png": "[encoded data removed]",
      "text/plain": [
       "<Figure size 1200x600 with 2 Axes>"
      ]
     },
     "metadata": {},
     "output_type": "display_data"
    }
   ],
   "source": [
    "# Análisis de longitudes de secuencias para determinar el tamaño de contexto\n",
    "print(\"Analizando longitudes de secuencias\")\n",
    "\n",
    "# Dividir el texto en oraciones para analizar longitudes\n",
    "sentences = re.split(r'[.!?]+', quijote_text)\n",
    "sentences = [s.strip() for s in sentences if len(s.strip()) > 10]  # Filtrar oraciones muy cortas\n",
    "\n",
    "# Calcular longitudes de caracteres por oración\n",
    "sentence_lengths = [len(sentence) for sentence in sentences]\n",
    "\n",
    "print(f\"Estadísticas de longitudes de oraciones:\")\n",
    "print(f\"   - Número de oraciones: {len(sentences):,}\")\n",
    "print(f\"   - Longitud promedio: {np.mean(sentence_lengths):.1f} caracteres\")\n",
    "print(f\"   - Longitud mediana: {np.median(sentence_lengths):.1f} caracteres\")\n",
    "print(f\"   - Longitud mínima: {np.min(sentence_lengths)} caracteres\")\n",
    "print(f\"   - Longitud máxima: {np.max(sentence_lengths)} caracteres\")\n",
    "print(f\"   - Desviación estándar: {np.std(sentence_lengths):.1f} caracteres\")\n",
    "\n",
    "# Análisis de percentiles\n",
    "percentiles = [50, 75, 90, 95, 99]\n",
    "print(f\"\\n Percentiles de longitud:\")\n",
    "for p in percentiles:\n",
    "    val = np.percentile(sentence_lengths, p)\n",
    "    print(f\"   - P{p}: {val:.1f} caracteres\")\n",
    "\n",
    "# Visualización de la distribución\n",
    "plt.figure(figsize=(12, 6))\n",
    "\n",
    "plt.subplot(1, 2, 1)\n",
    "plt.hist(sentence_lengths, bins=50, color='lightblue', edgecolor='navy', alpha=0.7)\n",
    "plt.axvline(np.mean(sentence_lengths), color='red', linestyle='--', label=f'Media: {np.mean(sentence_lengths):.1f}')\n",
    "plt.axvline(np.median(sentence_lengths), color='green', linestyle='--', label=f'Mediana: {np.median(sentence_lengths):.1f}')\n",
    "plt.xlabel('Longitud de Oración (caracteres)')\n",
    "plt.ylabel('Frecuencia')\n",
    "plt.title('Distribución de Longitudes de Oraciones')\n",
    "plt.legend()\n",
    "\n",
    "plt.subplot(1, 2, 2)\n",
    "plt.hist(sentence_lengths, bins=50, color='lightcoral', edgecolor='darkred', alpha=0.7)\n",
    "plt.axvline(np.percentile(sentence_lengths, 90), color='orange', linestyle='--', label='P90')\n",
    "plt.axvline(np.percentile(sentence_lengths, 95), color='purple', linestyle='--', label='P95')\n",
    "plt.xlabel('Longitud de Oración (caracteres)')\n",
    "plt.ylabel('Frecuencia')\n",
    "plt.title('Distribución (Escala Log)')\n",
    "plt.yscale('log')\n",
    "plt.legend()\n",
    "\n",
    "plt.tight_layout()\n",
    "plt.show()\n"
   ]
  },
  {
   "cell_type": "code",
   "execution_count": 82,
   "metadata": {
    "colab": {
     "base_uri": "https://localhost:8080/"
    },
    "executionInfo": {
     "elapsed": 5,
     "status": "ok",
     "timestamp": 1760887488648,
     "user": {
      "displayName": "David Canal",
      "userId": "10004429400973296543"
     },
     "user_tz": -120
    },
    "id": "LwyTMf-G87NF",
    "outputId": "6b1eafc5-b508-482c-f507-6626129e288a"
   },
   "outputs": [
    {
     "name": "stdout",
     "output_type": "stream",
     "text": [
      "Seleccionando tamaño de contexto\n",
      "Tamaño de contexto seleccionado: 437 caracteres\n",
      "   - Esto captura el 90% de las oraciones\n",
      "   - Balance entre coherencia y eficiencia computacional\n",
      "Contexto limitado a 100 caracteres para eficiencia\n",
      "Tamaño final de contexto: 100 caracteres\n"
     ]
    }
   ],
   "source": [
    "# Selección del tamaño de contexto basado en el análisis\n",
    "print(\"Seleccionando tamaño de contexto\")\n",
    "\n",
    "# Usar el percentil 90 para capturar la mayoría de patrones sin ser excesivo\n",
    "max_context_size = int(np.percentile(sentence_lengths, 90))\n",
    "print(f\"Tamaño de contexto seleccionado: {max_context_size} caracteres\")\n",
    "print(f\"   - Esto captura el {90}% de las oraciones\")\n",
    "print(f\"   - Balance entre coherencia y eficiencia computacional\")\n",
    "\n",
    "# Verificar que el tamaño sea razonable\n",
    "if max_context_size > 200:\n",
    "    max_context_size = 100  # Limitar para eficiencia\n",
    "    print(f\"Contexto limitado a {max_context_size} caracteres para eficiencia\")\n",
    "elif max_context_size < 50:\n",
    "    max_context_size = 50   # Mínimo para coherencia\n",
    "    print(f\"Contexto aumentado a {max_context_size} caracteres para coherencia\")\n",
    "\n",
    "print(f\"Tamaño final de contexto: {max_context_size} caracteres\")\n"
   ]
  },
  {
   "cell_type": "markdown",
   "metadata": {
    "id": "lbSjRswZ87NF"
   },
   "source": [
    "---\n",
    "## **4. Estructuración del Dataset** (Many-to-Many)\n",
    "\n",
    "Se adoptó una estructura Many-to-Many, dado que permite que el modelo aprenda relaciones entre todos los elementos de la secuencia. Este enfoque favorece un aprendizaje más denso, dado que cada posición de la secuencia contribuye al cálculo del gradiente, mejorando así la propagación del aprendizaje a lo largo de toda la cadena. Además, facilita que la red capture dependencias temporales y mantenga la coherencia del texto generado, aprovechando de forma más eficiente la capacidad de las RNN.\n",
    "\n",
    "En esta configuración, la entrada está compuesta por una secuencia de caracteres [x₀, x₁, ..., xₙ], mientras que el target corresponde a la misma secuencia desplazada una posición [x₁, x₂, ..., xₙ₊₁]. De este modo, el objetivo del modelo es predecir el siguiente carácter en cada paso, aprendiendo progresivamente las transiciones entre los caracteres y la estructura del texto."
   ]
  },
  {
   "cell_type": "code",
   "execution_count": 83,
   "metadata": {
    "colab": {
     "base_uri": "https://localhost:8080/"
    },
    "executionInfo": {
     "elapsed": 5,
     "status": "ok",
     "timestamp": 1760887736685,
     "user": {
      "displayName": "David Canal",
      "userId": "10004429400973296543"
     },
     "user_tz": -120
    },
    "id": "-qXZPFPq87NF",
    "outputId": "692f8a22-251e-4433-ec75-c7bb1a4f9327"
   },
   "outputs": [
    {
     "name": "stdout",
     "output_type": "stream",
     "text": [
      "Tokenizando texto completo\n",
      "Texto tokenizado: 100,000 tokens\n",
      "Muestra de tokens: [13, 11, 25, 37, 29, 30, 21, 24, 0, 25, 27, 19, 22, 15, 27, 24, 7, 0, 26, 30, 15, 0, 29, 27, 11, 29, 11, 0, 14, 15, 0, 21, 11, 0, 13, 24, 23, 14, 19, 13, 19, 39, 23, 0, 33, 0, 15, 20, 15, 27]\n",
      "Texto original: 'capítulo primero. que trata de la condición y ejer'\n",
      "Tokens correspondientes: ['c', 'a', 'p', 'í', 't', 'u', 'l', 'o', ' ', 'p', 'r', 'i', 'm', 'e', 'r', 'o', '.', ' ', 'q', 'u', 'e', ' ', 't', 'r', 'a', 't', 'a', ' ', 'd', 'e', ' ', 'l', 'a', ' ', 'c', 'o', 'n', 'd', 'i', 'c', 'i', 'ó', 'n', ' ', 'y', ' ', 'e', 'j', 'e', 'r']\n",
      "Verificación reversibilidad: True\n"
     ]
    }
   ],
   "source": [
    "# Tokenización del texto completo\n",
    "print(\"Tokenizando texto completo\")\n",
    "\n",
    "# Convertir texto a secuencia de índices\n",
    "tokenized_text = [char2idx[char] for char in quijote_text]\n",
    "\n",
    "print(f\"Texto tokenizado: {len(tokenized_text):,} tokens\")\n",
    "print(f\"Muestra de tokens: {tokenized_text[:50]}\")\n",
    "print(f\"Texto original: '{quijote_text[:50]}'\")\n",
    "print(f\"Tokens correspondientes: {[idx2char[idx] for idx in tokenized_text[:50]]}\")\n",
    "\n",
    "# Verificar que la tokenización es reversible\n",
    "reconstructed = ''.join([idx2char[idx] for idx in tokenized_text[:100]])\n",
    "print(f\"Verificación reversibilidad: {quijote_text[:100] == reconstructed}\")\n"
   ]
  },
  {
   "cell_type": "code",
   "execution_count": 84,
   "metadata": {
    "colab": {
     "base_uri": "https://localhost:8080/"
    },
    "executionInfo": {
     "elapsed": 8,
     "status": "ok",
     "timestamp": 1760887739284,
     "user": {
      "displayName": "David Canal",
      "userId": "10004429400973296543"
     },
     "user_tz": -120
    },
    "id": "s7Tl4kHx87NF",
    "outputId": "c5a1c3e6-c0ff-4490-b4b9-fac150b6a98b"
   },
   "outputs": [
    {
     "name": "stdout",
     "output_type": "stream",
     "text": [
      "Creando secuencias de entrenamiento y validación...\n",
      "Parámetros de división:\n",
      "   - Texto total: 100,000 tokens\n",
      "   - Tamaño de contexto: 100 tokens\n",
      "   - Porcentaje validación: 10.0%\n",
      "   - Secuencias de validación: 100\n",
      "División completada:\n",
      "   - Texto entrenamiento: 90,000 tokens\n",
      "   - Texto validación: 10,000 tokens\n",
      "Secuencias de validación creadas: 100\n"
     ]
    }
   ],
   "source": [
    "# Creación de secuencias de entrenamiento y validación\n",
    "print(\"Creando secuencias de entrenamiento y validación...\")\n",
    "\n",
    "# Parámetros de división\n",
    "p_val = 0.1  # 10% para validación\n",
    "num_val = int(np.ceil(len(tokenized_text) * p_val / max_context_size))\n",
    "\n",
    "print(f\"Parámetros de división:\")\n",
    "print(f\"   - Texto total: {len(tokenized_text):,} tokens\")\n",
    "print(f\"   - Tamaño de contexto: {max_context_size} tokens\")\n",
    "print(f\"   - Porcentaje validación: {p_val*100}%\")\n",
    "print(f\"   - Secuencias de validación: {num_val}\")\n",
    "\n",
    "# Separar texto de entrenamiento y validación\n",
    "train_text = tokenized_text[:-num_val * max_context_size]\n",
    "val_text = tokenized_text[-num_val * max_context_size:]\n",
    "\n",
    "print(f\"División completada:\")\n",
    "print(f\"   - Texto entrenamiento: {len(train_text):,} tokens\")\n",
    "print(f\"   - Texto validación: {len(val_text):,} tokens\")\n",
    "\n",
    "# Crear secuencias de validación\n",
    "tokenized_sentences_val = []\n",
    "for i in range(num_val):\n",
    "    start_idx = i * max_context_size\n",
    "    end_idx = start_idx + max_context_size\n",
    "    if end_idx <= len(val_text):\n",
    "        tokenized_sentences_val.append(val_text[start_idx:end_idx])\n",
    "\n",
    "print(f\"Secuencias de validación creadas: {len(tokenized_sentences_val)}\")\n"
   ]
  },
  {
   "cell_type": "code",
   "execution_count": 85,
   "metadata": {
    "colab": {
     "base_uri": "https://localhost:8080/"
    },
    "executionInfo": {
     "elapsed": 2855,
     "status": "ok",
     "timestamp": 1760887748131,
     "user": {
      "displayName": "David Canal",
      "userId": "10004429400973296543"
     },
     "user_tz": -120
    },
    "id": "JnQr7H-X87NF",
    "outputId": "5ecbce4d-7874-483d-82ac-ed9315960de0"
   },
   "outputs": [
    {
     "name": "stdout",
     "output_type": "stream",
     "text": [
      "Creando secuencias de entrenamiento (many-to-many)\n",
      "Secuencias de entrenamiento creadas: 89,901\n",
      "Estructura many-to-many creada:\n",
      "   - X shape: (89900, 100)\n",
      "   - y shape: (89900, 100)\n",
      "   - Ejemplo X[0]: [13 11 25 37 29 30 21 24  0 25 27 19 22 15 27 24  7  0 26 30]...\n",
      "   - Ejemplo y[0]: [11 25 37 29 30 21 24  0 25 27 19 22 15 27 24  7  0 26 30 15]...\n",
      "Verificación de estructura:\n",
      "   - X[0] representa: 'capítulo primero. que trata de...'\n",
      "   - y[0] representa: 'apítulo primero. que trata de ...'\n",
      "   - Diferencia: y[0] es X[0] desplazado 1 posición hacia la izquierda\n"
     ]
    }
   ],
   "source": [
    "# Crear secuencias de entrenamiento con estructura many-to-many\n",
    "print(\"Creando secuencias de entrenamiento (many-to-many)\")\n",
    "\n",
    "# Generar todas las secuencias de entrenamiento\n",
    "tokenized_sentences_train = []\n",
    "for i in range(len(train_text) - max_context_size + 1):\n",
    "    sequence = train_text[i:i + max_context_size]\n",
    "    tokenized_sentences_train.append(sequence)\n",
    "\n",
    "print(f\"Secuencias de entrenamiento creadas: {len(tokenized_sentences_train):,}\")\n",
    "\n",
    "# Crear estructura many-to-many\n",
    "# X: secuencias de entrada [x0, x1, ..., xN]\n",
    "# y: secuencias de salida [x1, x2, ..., xN+1]\n",
    "X = np.array(tokenized_sentences_train[:-1])  # Todas excepto la última\n",
    "y = np.array(tokenized_sentences_train[1:])   # Todas excepto la primera\n",
    "\n",
    "print(f\"Estructura many-to-many creada:\")\n",
    "print(f\"   - X shape: {X.shape}\")\n",
    "print(f\"   - y shape: {y.shape}\")\n",
    "print(f\"   - Ejemplo X[0]: {X[0][:20]}...\")\n",
    "print(f\"   - Ejemplo y[0]: {y[0][:20]}...\")\n",
    "\n",
    "# Verificar que la estructura es correcta\n",
    "print(f\"Verificación de estructura:\")\n",
    "print(f\"   - X[0] representa: '{''.join([idx2char[idx] for idx in X[0][:30]])}...'\")\n",
    "print(f\"   - y[0] representa: '{''.join([idx2char[idx] for idx in y[0][:30]])}...'\")\n",
    "print(f\"   - Diferencia: y[0] es X[0] desplazado 1 posición hacia la izquierda\")\n"
   ]
  },
  {
   "cell_type": "markdown",
   "metadata": {
    "id": "vuOGlPMV87NF"
   },
   "source": [
    "## **5. Arquitecturas de Redes Neuronales Recurrentes**\n",
    "\n",
    "En esta etapa se analizaron distintas arquitecturas de Redes Neuronales Recurrentes (RNN) con el fin de seleccionar la más adecuada para el problema planteado. En primer lugar, se consideró la SimpleRNN (Elman Network), una arquitectura básica caracterizada por su simplicidad y rápido entrenamiento, ya que cuenta con pocos parámetros. Sin embargo, presenta limitaciones importantes, como el problema del vanishing gradient y la dificultad para capturar dependencias largas, lo que la hace más adecuada para textos simples o secuencias cortas.\n",
    "\n",
    "Posteriormente, se evaluó la LSTM (Long Short-Term Memory), que introduce una estructura de compuertas capaz de mantener información a largo plazo, resolviendo en gran medida el problema del vanishing gradient. Esta característica la vuelve ideal para textos complejos y secuencias largas, aunque su principal desventaja es el mayor costo computacional debido al número de parámetros y al tiempo de entrenamiento.\n",
    "\n",
    "Finalmente, se analizó la GRU (Gated Recurrent Unit), una variante simplificada de la LSTM que busca un equilibrio entre rendimiento y eficiencia. Requiere menos parámetros y entrena más rápido, aunque puede resultar ligeramente menos potente en tareas que exigen un modelado profundo de dependencias temporales. Por este motivo, la GRU suele representar un compromiso efectivo entre complejidad y capacidad de generalización."
   ]
  },
  {
   "cell_type": "code",
   "execution_count": 86,
   "metadata": {
    "colab": {
     "base_uri": "https://localhost:8080/"
    },
    "executionInfo": {
     "elapsed": 9,
     "status": "ok",
     "timestamp": 1760887961534,
     "user": {
      "displayName": "David Canal",
      "userId": "10004429400973296543"
     },
     "user_tz": -120
    },
    "id": "22lXpnO087NF",
    "outputId": "d281f6ab-f2e6-48dd-dc98-6f2b5126e78c"
   },
   "outputs": [],
   "source": [
    "# Función para crear diferentes arquitecturas RNN\n",
    "def create_rnn_model(architecture='lstm', vocab_size=vocab_size, context_size=max_context_size,\n",
    "                    hidden_size=128, dropout_rate=0.2, return_sequences=True):\n",
    "    \"\"\"\n",
    "    Crea un modelo RNN con la arquitectura especificada\n",
    "\n",
    "    Args:\n",
    "        architecture: 'simple', 'lstm', o 'gru'\n",
    "        vocab_size: tamaño del vocabulario\n",
    "        context_size: tamaño del contexto\n",
    "        hidden_size: tamaño de la capa oculta\n",
    "        dropout_rate: tasa de dropout\n",
    "        return_sequences: si retornar secuencias completas\n",
    "\n",
    "    Returns:\n",
    "        modelo compilado de Keras\n",
    "    \"\"\"\n",
    "\n",
    "    from tensorflow.keras.layers import SimpleRNN, LSTM, GRU, Dense, Embedding, Dropout, TimeDistributed, CategoryEncoding\n",
    "    from tensorflow.keras.models import Sequential\n",
    "    from tensorflow.keras.losses import SparseCategoricalCrossentropy\n",
    "\n",
    "    model = Sequential()\n",
    "\n",
    "    # Capa de entrada: One-hot encoding de caracteres\n",
    "    model.add(TimeDistributed(\n",
    "        CategoryEncoding(num_tokens=vocab_size, output_mode=\"one_hot\"),\n",
    "        input_shape=(None, 1)\n",
    "    ))\n",
    "\n",
    "    # Capa RNN según la arquitectura seleccionada\n",
    "    if architecture == 'simple':\n",
    "        model.add(SimpleRNN(\n",
    "            hidden_size,\n",
    "            return_sequences=return_sequences,\n",
    "            dropout=dropout_rate,\n",
    "            recurrent_dropout=dropout_rate\n",
    "        ))\n",
    "    elif architecture == 'lstm':\n",
    "        model.add(LSTM(\n",
    "            hidden_size,\n",
    "            return_sequences=return_sequences,\n",
    "            dropout=dropout_rate,\n",
    "            recurrent_dropout=dropout_rate\n",
    "        ))\n",
    "    elif architecture == 'gru':\n",
    "        model.add(GRU(\n",
    "            hidden_size,\n",
    "            return_sequences=return_sequences,\n",
    "            dropout=dropout_rate,\n",
    "            recurrent_dropout=dropout_rate\n",
    "        ))\n",
    "    else:\n",
    "        raise ValueError(f\"Arquitectura no soportada: {architecture}\")\n",
    "\n",
    "    # Capa de salida: predicción del siguiente carácter\n",
    "    model.add(Dense(vocab_size, activation='softmax'))\n",
    "\n",
    "    # Compilar modelo\n",
    "    model.compile(\n",
    "        loss=SparseCategoricalCrossentropy(),\n",
    "        optimizer='rmsprop',\n",
    "        metrics=['accuracy']\n",
    "    )\n",
    "\n",
    "    return model"
   ]
  },
  {
   "cell_type": "code",
   "execution_count": 87,
   "metadata": {
    "colab": {
     "base_uri": "https://localhost:8080/",
     "height": 661
    },
    "executionInfo": {
     "elapsed": 190,
     "status": "ok",
     "timestamp": 1760887966007,
     "user": {
      "displayName": "David Canal",
      "userId": "10004429400973296543"
     },
     "user_tz": -120
    },
    "id": "a1at4o8Y87NG",
    "outputId": "29c229c2-f0c4-46d1-e0cb-8e3874bb5b02"
   },
   "outputs": [
    {
     "name": "stdout",
     "output_type": "stream",
     "text": [
      "Creando modelos RNN para comparación\n",
      "Creando modelo SIMPLE...\n",
      "Modelo SIMPLE creado\n",
      "   - Parámetros totales: 27,306\n",
      "   - Arquitectura: SIMPLE\n",
      "Creando modelo LSTM...\n",
      "Modelo LSTM creado\n",
      "   - Parámetros totales: 92,970\n",
      "   - Arquitectura: LSTM\n",
      "Creando modelo GRU...\n",
      "Modelo GRU creado\n",
      "   - Parámetros totales: 71,466\n",
      "   - Arquitectura: GRU\n",
      "\n",
      "Resumen de modelos creados:\n",
      "   - SIMPLE: 27,306 parámetros\n",
      "   - LSTM: 92,970 parámetros\n",
      "   - GRU: 71,466 parámetros\n",
      "\n",
      " Arquitectura detallada del modelo LSTM:\n"
     ]
    },
    {
     "name": "stderr",
     "output_type": "stream",
     "text": [
      "/Users/dcanal1820/miniforge/lib/python3.12/site-packages/keras/src/layers/core/wrapper.py:27: UserWarning: Do not pass an `input_shape`/`input_dim` argument to a layer. When using Sequential models, prefer using an `Input(shape)` object as the first layer in the model instead.\n",
      "  super().__init__(**kwargs)\n"
     ]
    },
    {
     "data": {
      "text/html": [
       "<pre style=\"white-space:pre;overflow-x:auto;line-height:normal;font-family:Menlo,'DejaVu Sans Mono',consolas,'Courier New',monospace\"><span style=\"font-weight: bold\">Model: \"sequential_7\"</span>\n",
       "</pre>\n"
      ],
      "text/plain": [
       "\u001b[1mModel: \"sequential_7\"\u001b[0m\n"
      ]
     },
     "metadata": {},
     "output_type": "display_data"
    },
    {
     "data": {
      "text/html": [
       "<pre style=\"white-space:pre;overflow-x:auto;line-height:normal;font-family:Menlo,'DejaVu Sans Mono',consolas,'Courier New',monospace\">┏━━━━━━━━━━━━━━━━━━━━━━━━━━━━━━━━━┳━━━━━━━━━━━━━━━━━━━━━━━━┳━━━━━━━━━━━━━━━┓\n",
       "┃<span style=\"font-weight: bold\"> Layer (type)                    </span>┃<span style=\"font-weight: bold\"> Output Shape           </span>┃<span style=\"font-weight: bold\">       Param # </span>┃\n",
       "┡━━━━━━━━━━━━━━━━━━━━━━━━━━━━━━━━━╇━━━━━━━━━━━━━━━━━━━━━━━━╇━━━━━━━━━━━━━━━┩\n",
       "│ time_distributed_7              │ (<span style=\"color: #00d7ff; text-decoration-color: #00d7ff\">None</span>, <span style=\"color: #00d7ff; text-decoration-color: #00d7ff\">None</span>, <span style=\"color: #00af00; text-decoration-color: #00af00\">42</span>)       │             <span style=\"color: #00af00; text-decoration-color: #00af00\">0</span> │\n",
       "│ (<span style=\"color: #0087ff; text-decoration-color: #0087ff\">TimeDistributed</span>)               │                        │               │\n",
       "├─────────────────────────────────┼────────────────────────┼───────────────┤\n",
       "│ lstm_2 (<span style=\"color: #0087ff; text-decoration-color: #0087ff\">LSTM</span>)                   │ (<span style=\"color: #00d7ff; text-decoration-color: #00d7ff\">None</span>, <span style=\"color: #00d7ff; text-decoration-color: #00d7ff\">None</span>, <span style=\"color: #00af00; text-decoration-color: #00af00\">128</span>)      │        <span style=\"color: #00af00; text-decoration-color: #00af00\">87,552</span> │\n",
       "├─────────────────────────────────┼────────────────────────┼───────────────┤\n",
       "│ dense_7 (<span style=\"color: #0087ff; text-decoration-color: #0087ff\">Dense</span>)                 │ (<span style=\"color: #00d7ff; text-decoration-color: #00d7ff\">None</span>, <span style=\"color: #00d7ff; text-decoration-color: #00d7ff\">None</span>, <span style=\"color: #00af00; text-decoration-color: #00af00\">42</span>)       │         <span style=\"color: #00af00; text-decoration-color: #00af00\">5,418</span> │\n",
       "└─────────────────────────────────┴────────────────────────┴───────────────┘\n",
       "</pre>\n"
      ],
      "text/plain": [
       "┏━━━━━━━━━━━━━━━━━━━━━━━━━━━━━━━━━┳━━━━━━━━━━━━━━━━━━━━━━━━┳━━━━━━━━━━━━━━━┓\n",
       "┃\u001b[1m \u001b[0m\u001b[1mLayer (type)                   \u001b[0m\u001b[1m \u001b[0m┃\u001b[1m \u001b[0m\u001b[1mOutput Shape          \u001b[0m\u001b[1m \u001b[0m┃\u001b[1m \u001b[0m\u001b[1m      Param #\u001b[0m\u001b[1m \u001b[0m┃\n",
       "┡━━━━━━━━━━━━━━━━━━━━━━━━━━━━━━━━━╇━━━━━━━━━━━━━━━━━━━━━━━━╇━━━━━━━━━━━━━━━┩\n",
       "│ time_distributed_7              │ (\u001b[38;5;45mNone\u001b[0m, \u001b[38;5;45mNone\u001b[0m, \u001b[38;5;34m42\u001b[0m)       │             \u001b[38;5;34m0\u001b[0m │\n",
       "│ (\u001b[38;5;33mTimeDistributed\u001b[0m)               │                        │               │\n",
       "├─────────────────────────────────┼────────────────────────┼───────────────┤\n",
       "│ lstm_2 (\u001b[38;5;33mLSTM\u001b[0m)                   │ (\u001b[38;5;45mNone\u001b[0m, \u001b[38;5;45mNone\u001b[0m, \u001b[38;5;34m128\u001b[0m)      │        \u001b[38;5;34m87,552\u001b[0m │\n",
       "├─────────────────────────────────┼────────────────────────┼───────────────┤\n",
       "│ dense_7 (\u001b[38;5;33mDense\u001b[0m)                 │ (\u001b[38;5;45mNone\u001b[0m, \u001b[38;5;45mNone\u001b[0m, \u001b[38;5;34m42\u001b[0m)       │         \u001b[38;5;34m5,418\u001b[0m │\n",
       "└─────────────────────────────────┴────────────────────────┴───────────────┘\n"
      ]
     },
     "metadata": {},
     "output_type": "display_data"
    },
    {
     "data": {
      "text/html": [
       "<pre style=\"white-space:pre;overflow-x:auto;line-height:normal;font-family:Menlo,'DejaVu Sans Mono',consolas,'Courier New',monospace\"><span style=\"font-weight: bold\"> Total params: </span><span style=\"color: #00af00; text-decoration-color: #00af00\">92,970</span> (363.16 KB)\n",
       "</pre>\n"
      ],
      "text/plain": [
       "\u001b[1m Total params: \u001b[0m\u001b[38;5;34m92,970\u001b[0m (363.16 KB)\n"
      ]
     },
     "metadata": {},
     "output_type": "display_data"
    },
    {
     "data": {
      "text/html": [
       "<pre style=\"white-space:pre;overflow-x:auto;line-height:normal;font-family:Menlo,'DejaVu Sans Mono',consolas,'Courier New',monospace\"><span style=\"font-weight: bold\"> Trainable params: </span><span style=\"color: #00af00; text-decoration-color: #00af00\">92,970</span> (363.16 KB)\n",
       "</pre>\n"
      ],
      "text/plain": [
       "\u001b[1m Trainable params: \u001b[0m\u001b[38;5;34m92,970\u001b[0m (363.16 KB)\n"
      ]
     },
     "metadata": {},
     "output_type": "display_data"
    },
    {
     "data": {
      "text/html": [
       "<pre style=\"white-space:pre;overflow-x:auto;line-height:normal;font-family:Menlo,'DejaVu Sans Mono',consolas,'Courier New',monospace\"><span style=\"font-weight: bold\"> Non-trainable params: </span><span style=\"color: #00af00; text-decoration-color: #00af00\">0</span> (0.00 B)\n",
       "</pre>\n"
      ],
      "text/plain": [
       "\u001b[1m Non-trainable params: \u001b[0m\u001b[38;5;34m0\u001b[0m (0.00 B)\n"
      ]
     },
     "metadata": {},
     "output_type": "display_data"
    }
   ],
   "source": [
    "# Crear y comparar los tres tipos de modelos RNN\n",
    "print(\"Creando modelos RNN para comparación\")\n",
    "\n",
    "# Parámetros de los modelos\n",
    "hidden_size = 128\n",
    "dropout_rate = 0.2\n",
    "\n",
    "# Crear los tres modelos\n",
    "models = {}\n",
    "architectures = ['simple', 'lstm', 'gru']\n",
    "\n",
    "for arch in architectures:\n",
    "    print(f\"Creando modelo {arch.upper()}...\")\n",
    "    models[arch] = create_rnn_model(\n",
    "        architecture=arch,\n",
    "        vocab_size=vocab_size,\n",
    "        context_size=max_context_size,\n",
    "        hidden_size=hidden_size,\n",
    "        dropout_rate=dropout_rate\n",
    "    )\n",
    "\n",
    "    print(f\"Modelo {arch.upper()} creado\")\n",
    "    print(f\"   - Parámetros totales: {models[arch].count_params():,}\")\n",
    "    print(f\"   - Arquitectura: {arch.upper()}\")\n",
    "\n",
    "print(f\"\\nResumen de modelos creados:\")\n",
    "for arch, model in models.items():\n",
    "    print(f\"   - {arch.upper()}: {model.count_params():,} parámetros\")\n",
    "\n",
    "# Mostrar arquitectura detallada del modelo LSTM como ejemplo\n",
    "print(f\"\\n Arquitectura detallada del modelo LSTM:\")\n",
    "models['lstm'].summary()\n"
   ]
  },
  {
   "cell_type": "markdown",
   "metadata": {
    "id": "-lNyXahu87NG"
   },
   "source": [
    "---\n",
    "## **6. Callback personalizado para perplejidad**\n",
    "\n",
    "### Análisis de la métrica de Perplejidad\n",
    "\n",
    "Para el control del entrenamiento se implementó un callback personalizado basado en la métrica de perplejidad, una medida especialmente útil en modelos de lenguaje. La perplejidad se define como exp(-log_likelihood) y permite interpretar cuántas opciones, en promedio, el modelo considera posibles en cada paso de predicción. Un valor de 1 indica una predicción perfecta, mientras que una perplejidad similar al tamaño del vocabulario refleja un comportamiento aleatorio. Por tanto, valores menores al tamaño del vocabulario implican que el modelo está aprendiendo patrones significativos.\n",
    "\n",
    "Este enfoque se utilizó también como criterio de early stopping, deteniendo el entrenamiento cuando la perplejidad dejaba de mejorar. Esto permitío prevenir el sobreajuste, reducir el tiempo de entrenamiento y garantizar la selección del mejor modelo para la tarea de generación de texto."
   ]
  },
  {
   "cell_type": "code",
   "execution_count": 88,
   "metadata": {
    "id": "F-OKkwrN87NG"
   },
   "outputs": [],
   "source": [
    "# Callback personalizado para calcular perplejidad y early stopping\n",
    "class PerplexityCallback(keras.callbacks.Callback):\n",
    "    \"\"\"\n",
    "    Callback personalizado para calcular perplejidad en cada epoch\n",
    "    e implementar early stopping basado en la mejora de perplejidad\n",
    "    \"\"\"\n",
    "\n",
    "    def __init__(self, val_data, history_ppl, patience=5, min_delta=0.01):\n",
    "        super().__init__()\n",
    "        self.val_data = val_data\n",
    "        self.history_ppl = history_ppl\n",
    "        self.patience = patience\n",
    "        self.min_delta = min_delta\n",
    "        self.min_perplexity = np.inf\n",
    "        self.patience_counter = 0\n",
    "        self.best_weights = None\n",
    "\n",
    "        # Preprocesar datos de validación para cálculo eficiente\n",
    "        self._prepare_validation_data()\n",
    "\n",
    "    def _prepare_validation_data(self):\n",
    "        \"\"\"Preprocesa los datos de validación para cálculo eficiente de perplejidad\"\"\"\n",
    "        self.val_targets = []\n",
    "        self.val_inputs = []\n",
    "        self.val_info = []\n",
    "\n",
    "        count = 0\n",
    "        for seq in self.val_data:\n",
    "            if len(seq) > 1:\n",
    "                # Crear subsecuencias para evaluación\n",
    "                for i in range(1, len(seq)):\n",
    "                    input_seq = seq[:i]\n",
    "                    target_char = seq[i]\n",
    "\n",
    "                    # Padding si es necesario\n",
    "                    if len(input_seq) < max_context_size:\n",
    "                        input_seq = [0] * (max_context_size - len(input_seq)) + input_seq\n",
    "                    else:\n",
    "                        input_seq = input_seq[-max_context_size:]\n",
    "\n",
    "                    self.val_inputs.append(input_seq)\n",
    "                    self.val_targets.append(target_char)\n",
    "                    self.val_info.append((count, count + 1))\n",
    "                    count += 1\n",
    "\n",
    "        self.val_inputs = np.array(self.val_inputs)\n",
    "        self.val_targets = np.array(self.val_targets)\n",
    "\n",
    "        print(f\"Datos de validación preparados: {len(self.val_inputs)} secuencias\")\n",
    "\n",
    "    def on_epoch_end(self, epoch, logs=None):\n",
    "        \"\"\"Calcula perplejidad al final de cada epoch\"\"\"\n",
    "\n",
    "        # Obtener predicciones del modelo\n",
    "        predictions = self.model.predict(self.val_inputs, verbose=0)\n",
    "\n",
    "        # Calcular perplejidad para cada secuencia\n",
    "        perplexities = []\n",
    "        for i, (start, end) in enumerate(self.val_info):\n",
    "            if start < len(predictions):\n",
    "                target_idx = self.val_targets[i]\n",
    "                prob = predictions[start, -1, target_idx]  # Probabilidad del carácter target\n",
    "                perplexities.append(prob)\n",
    "\n",
    "        # Calcular perplejidad promedio\n",
    "        if perplexities:\n",
    "            avg_perplexity = np.exp(-np.mean(np.log(np.array(perplexities) + 1e-10)))\n",
    "        else:\n",
    "            avg_perplexity = np.inf\n",
    "\n",
    "        # Guardar en historial\n",
    "        self.history_ppl.append(avg_perplexity)\n",
    "\n",
    "        print(f\"Epoch {epoch + 1} - Perplejidad: {avg_perplexity:.4f}\")\n",
    "\n",
    "        # Early stopping\n",
    "        if avg_perplexity < self.min_perplexity - self.min_delta:\n",
    "            self.min_perplexity = avg_perplexity\n",
    "            self.patience_counter = 0\n",
    "            self.best_weights = self.model.get_weights()\n",
    "            print(f\"Nueva mejor perplejidad: {avg_perplexity:.4f}\")\n",
    "        else:\n",
    "            self.patience_counter += 1\n",
    "            print(f\"Sin mejora ({self.patience_counter}/{self.patience})\")\n",
    "\n",
    "            if self.patience_counter >= self.patience:\n",
    "                print(f\"Early stopping activado en epoch {epoch + 1}\")\n",
    "                self.model.stop_training = True\n",
    "                if self.best_weights is not None:\n",
    "                    self.model.set_weights(self.best_weights)\n",
    "                    print(f\"Pesos restaurados al mejor modelo\")\n"
   ]
  },
  {
   "cell_type": "markdown",
   "metadata": {
    "id": "yik6GNgZ87NG"
   },
   "source": [
    "---\n",
    "## **7. Entrenamiento y Comparación de Modelos**\n",
    "\n",
    "El proceso de entrenamiento se realizó ajustando los principales parámetros para optimizar el rendimiento del modelo sin comprometer la eficiencia computacional. Se entrenó durante 20 épocas, aplicando early stopping con una paciencia de 5 épocas para detener el proceso cuando la perplejidad de validación dejara de mejorar. Se utilizó un batch size de 256, buscando un equilibrio entre el uso de memoria y la estabilidad del aprendizaje, y el optimizador RMSprop, recomendado para redes recurrentes por su buen desempeño en la adaptación dinámica de la tasa de aprendizaje.\n",
    "\n",
    "Durante el entrenamiento se monitorizaron diversas métricas de evaluación. La perplejidad se empleó como métrica principal al reflejar directamente la calidad del modelo en tareas de predicción de lenguaje, complementada por la accuracy, que mide la precisión en la predicción de caracteres individuales. Además, se analizaron el tiempo de entrenamiento, como indicador de eficiencia computacional, y la convergencia, que permitió evaluar la estabilidad del proceso de aprendizaje y la consistencia entre modelos.\n"
   ]
  },
  {
   "cell_type": "code",
   "execution_count": 89,
   "metadata": {
    "colab": {
     "background_save": true,
     "base_uri": "https://localhost:8080/"
    },
    "id": "8D52E_0587NG",
    "outputId": "0eb9813f-615b-400c-c997-7c6096df92bf"
   },
   "outputs": [
    {
     "name": "stdout",
     "output_type": "stream",
     "text": [
      "Iniciando entrenamiento de modelos\n",
      "============================================================\n",
      " Entrenando modelo SIMPLE\n",
      "============================================================\n",
      "Datos de validación preparados: 9900 secuencias\n",
      "Epoch 1/20\n",
      "\u001b[1m352/352\u001b[0m \u001b[32m━━━━━━━━━━━━━━━━━━━━\u001b[0m\u001b[37m\u001b[0m \u001b[1m0s\u001b[0m 49ms/step - accuracy: 0.2373 - loss: 2.7037Epoch 1 - Perplejidad: 7.8327\n",
      "Nueva mejor perplejidad: 7.8327\n",
      "\u001b[1m352/352\u001b[0m \u001b[32m━━━━━━━━━━━━━━━━━━━━\u001b[0m\u001b[37m\u001b[0m \u001b[1m22s\u001b[0m 57ms/step - accuracy: 0.2860 - loss: 2.4447\n",
      "Epoch 2/20\n",
      "\u001b[1m352/352\u001b[0m \u001b[32m━━━━━━━━━━━━━━━━━━━━\u001b[0m\u001b[37m\u001b[0m \u001b[1m0s\u001b[0m 50ms/step - accuracy: 0.3378 - loss: 2.1686Epoch 2 - Perplejidad: 7.0653\n",
      "Nueva mejor perplejidad: 7.0653\n",
      "\u001b[1m352/352\u001b[0m \u001b[32m━━━━━━━━━━━━━━━━━━━━\u001b[0m\u001b[37m\u001b[0m \u001b[1m19s\u001b[0m 53ms/step - accuracy: 0.3434 - loss: 2.1447\n",
      "Epoch 3/20\n",
      "\u001b[1m351/352\u001b[0m \u001b[32m━━━━━━━━━━━━━━━━━━━\u001b[0m\u001b[37m━\u001b[0m \u001b[1m0s\u001b[0m 51ms/step - accuracy: 0.3591 - loss: 2.0850Epoch 3 - Perplejidad: 6.5167\n",
      "Nueva mejor perplejidad: 6.5167\n",
      "\u001b[1m352/352\u001b[0m \u001b[32m━━━━━━━━━━━━━━━━━━━━\u001b[0m\u001b[37m\u001b[0m \u001b[1m19s\u001b[0m 54ms/step - accuracy: 0.3640 - loss: 2.0692\n",
      "Epoch 4/20\n",
      "\u001b[1m351/352\u001b[0m \u001b[32m━━━━━━━━━━━━━━━━━━━\u001b[0m\u001b[37m━\u001b[0m \u001b[1m0s\u001b[0m 55ms/step - accuracy: 0.3756 - loss: 2.0303Epoch 4 - Perplejidad: 6.2000\n",
      "Nueva mejor perplejidad: 6.2000\n",
      "\u001b[1m352/352\u001b[0m \u001b[32m━━━━━━━━━━━━━━━━━━━━\u001b[0m\u001b[37m\u001b[0m \u001b[1m20s\u001b[0m 58ms/step - accuracy: 0.3791 - loss: 2.0189\n",
      "Epoch 5/20\n",
      "\u001b[1m351/352\u001b[0m \u001b[32m━━━━━━━━━━━━━━━━━━━\u001b[0m\u001b[37m━\u001b[0m \u001b[1m0s\u001b[0m 53ms/step - accuracy: 0.3876 - loss: 1.9918Epoch 5 - Perplejidad: 5.9758\n",
      "Nueva mejor perplejidad: 5.9758\n",
      "\u001b[1m352/352\u001b[0m \u001b[32m━━━━━━━━━━━━━━━━━━━━\u001b[0m\u001b[37m\u001b[0m \u001b[1m20s\u001b[0m 56ms/step - accuracy: 0.3895 - loss: 1.9848\n",
      "Epoch 6/20\n",
      "\u001b[1m351/352\u001b[0m \u001b[32m━━━━━━━━━━━━━━━━━━━\u001b[0m\u001b[37m━\u001b[0m \u001b[1m0s\u001b[0m 55ms/step - accuracy: 0.3954 - loss: 1.9642Epoch 6 - Perplejidad: 5.7998\n",
      "Nueva mejor perplejidad: 5.7998\n",
      "\u001b[1m352/352\u001b[0m \u001b[32m━━━━━━━━━━━━━━━━━━━━\u001b[0m\u001b[37m\u001b[0m \u001b[1m21s\u001b[0m 58ms/step - accuracy: 0.3968 - loss: 1.9589\n",
      "Epoch 7/20\n",
      "\u001b[1m351/352\u001b[0m \u001b[32m━━━━━━━━━━━━━━━━━━━\u001b[0m\u001b[37m━\u001b[0m \u001b[1m0s\u001b[0m 54ms/step - accuracy: 0.4019 - loss: 1.9416Epoch 7 - Perplejidad: 5.6858\n",
      "Nueva mejor perplejidad: 5.6858\n",
      "\u001b[1m352/352\u001b[0m \u001b[32m━━━━━━━━━━━━━━━━━━━━\u001b[0m\u001b[37m\u001b[0m \u001b[1m20s\u001b[0m 57ms/step - accuracy: 0.4030 - loss: 1.9372\n",
      "Epoch 8/20\n",
      "\u001b[1m352/352\u001b[0m \u001b[32m━━━━━━━━━━━━━━━━━━━━\u001b[0m\u001b[37m\u001b[0m \u001b[1m0s\u001b[0m 52ms/step - accuracy: 0.4061 - loss: 1.9265Epoch 8 - Perplejidad: 5.5518\n",
      "Nueva mejor perplejidad: 5.5518\n",
      "\u001b[1m352/352\u001b[0m \u001b[32m━━━━━━━━━━━━━━━━━━━━\u001b[0m\u001b[37m\u001b[0m \u001b[1m20s\u001b[0m 56ms/step - accuracy: 0.4069 - loss: 1.9226\n",
      "Epoch 9/20\n",
      "\u001b[1m351/352\u001b[0m \u001b[32m━━━━━━━━━━━━━━━━━━━\u001b[0m\u001b[37m━\u001b[0m \u001b[1m0s\u001b[0m 53ms/step - accuracy: 0.4096 - loss: 1.9128Epoch 9 - Perplejidad: 5.4942\n",
      "Nueva mejor perplejidad: 5.4942\n",
      "\u001b[1m352/352\u001b[0m \u001b[32m━━━━━━━━━━━━━━━━━━━━\u001b[0m\u001b[37m\u001b[0m \u001b[1m20s\u001b[0m 56ms/step - accuracy: 0.4101 - loss: 1.9101\n",
      "Epoch 10/20\n",
      "\u001b[1m351/352\u001b[0m \u001b[32m━━━━━━━━━━━━━━━━━━━\u001b[0m\u001b[37m━\u001b[0m \u001b[1m0s\u001b[0m 54ms/step - accuracy: 0.4120 - loss: 1.9034Epoch 10 - Perplejidad: 5.4379\n",
      "Nueva mejor perplejidad: 5.4379\n",
      "\u001b[1m352/352\u001b[0m \u001b[32m━━━━━━━━━━━━━━━━━━━━\u001b[0m\u001b[37m\u001b[0m \u001b[1m20s\u001b[0m 58ms/step - accuracy: 0.4127 - loss: 1.9005\n",
      "Epoch 11/20\n",
      "\u001b[1m351/352\u001b[0m \u001b[32m━━━━━━━━━━━━━━━━━━━\u001b[0m\u001b[37m━\u001b[0m \u001b[1m0s\u001b[0m 52ms/step - accuracy: 0.4143 - loss: 1.8931Epoch 11 - Perplejidad: 5.3624\n",
      "Nueva mejor perplejidad: 5.3624\n",
      "\u001b[1m352/352\u001b[0m \u001b[32m━━━━━━━━━━━━━━━━━━━━\u001b[0m\u001b[37m\u001b[0m \u001b[1m19s\u001b[0m 55ms/step - accuracy: 0.4147 - loss: 1.8915\n",
      "Epoch 12/20\n",
      "\u001b[1m351/352\u001b[0m \u001b[32m━━━━━━━━━━━━━━━━━━━\u001b[0m\u001b[37m━\u001b[0m \u001b[1m0s\u001b[0m 54ms/step - accuracy: 0.4161 - loss: 1.8859Epoch 12 - Perplejidad: 5.3629\n",
      "Sin mejora (1/5)\n",
      "\u001b[1m352/352\u001b[0m \u001b[32m━━━━━━━━━━━━━━━━━━━━\u001b[0m\u001b[37m\u001b[0m \u001b[1m20s\u001b[0m 57ms/step - accuracy: 0.4163 - loss: 1.8846\n",
      "Epoch 13/20\n",
      "\u001b[1m351/352\u001b[0m \u001b[32m━━━━━━━━━━━━━━━━━━━\u001b[0m\u001b[37m━\u001b[0m \u001b[1m0s\u001b[0m 53ms/step - accuracy: 0.4175 - loss: 1.8810Epoch 13 - Perplejidad: 5.3249\n",
      "Nueva mejor perplejidad: 5.3249\n",
      "\u001b[1m352/352\u001b[0m \u001b[32m━━━━━━━━━━━━━━━━━━━━\u001b[0m\u001b[37m\u001b[0m \u001b[1m20s\u001b[0m 57ms/step - accuracy: 0.4178 - loss: 1.8799\n",
      "Epoch 14/20\n",
      "\u001b[1m351/352\u001b[0m \u001b[32m━━━━━━━━━━━━━━━━━━━\u001b[0m\u001b[37m━\u001b[0m \u001b[1m0s\u001b[0m 53ms/step - accuracy: 0.4188 - loss: 1.8749Epoch 14 - Perplejidad: 5.2971\n",
      "Nueva mejor perplejidad: 5.2971\n",
      "\u001b[1m352/352\u001b[0m \u001b[32m━━━━━━━━━━━━━━━━━━━━\u001b[0m\u001b[37m\u001b[0m \u001b[1m20s\u001b[0m 57ms/step - accuracy: 0.4192 - loss: 1.8737\n",
      "Epoch 15/20\n",
      "\u001b[1m352/352\u001b[0m \u001b[32m━━━━━━━━━━━━━━━━━━━━\u001b[0m\u001b[37m\u001b[0m \u001b[1m0s\u001b[0m 54ms/step - accuracy: 0.4194 - loss: 1.8729Epoch 15 - Perplejidad: 5.2499\n",
      "Nueva mejor perplejidad: 5.2499\n",
      "\u001b[1m352/352\u001b[0m \u001b[32m━━━━━━━━━━━━━━━━━━━━\u001b[0m\u001b[37m\u001b[0m \u001b[1m20s\u001b[0m 58ms/step - accuracy: 0.4200 - loss: 1.8710\n",
      "Epoch 16/20\n",
      "\u001b[1m351/352\u001b[0m \u001b[32m━━━━━━━━━━━━━━━━━━━\u001b[0m\u001b[37m━\u001b[0m \u001b[1m0s\u001b[0m 54ms/step - accuracy: 0.4204 - loss: 1.8691Epoch 16 - Perplejidad: 5.2264\n",
      "Nueva mejor perplejidad: 5.2264\n",
      "\u001b[1m352/352\u001b[0m \u001b[32m━━━━━━━━━━━━━━━━━━━━\u001b[0m\u001b[37m\u001b[0m \u001b[1m20s\u001b[0m 58ms/step - accuracy: 0.4211 - loss: 1.8666\n",
      "Epoch 17/20\n",
      "\u001b[1m351/352\u001b[0m \u001b[32m━━━━━━━━━━━━━━━━━━━\u001b[0m\u001b[37m━\u001b[0m \u001b[1m0s\u001b[0m 53ms/step - accuracy: 0.4219 - loss: 1.8647Epoch 17 - Perplejidad: 5.2102\n",
      "Nueva mejor perplejidad: 5.2102\n",
      "\u001b[1m352/352\u001b[0m \u001b[32m━━━━━━━━━━━━━━━━━━━━\u001b[0m\u001b[37m\u001b[0m \u001b[1m20s\u001b[0m 56ms/step - accuracy: 0.4221 - loss: 1.8635\n",
      "Epoch 18/20\n",
      "\u001b[1m351/352\u001b[0m \u001b[32m━━━━━━━━━━━━━━━━━━━\u001b[0m\u001b[37m━\u001b[0m \u001b[1m0s\u001b[0m 54ms/step - accuracy: 0.4225 - loss: 1.8603Epoch 18 - Perplejidad: 5.2024\n",
      "Sin mejora (1/5)\n",
      "\u001b[1m352/352\u001b[0m \u001b[32m━━━━━━━━━━━━━━━━━━━━\u001b[0m\u001b[37m\u001b[0m \u001b[1m20s\u001b[0m 58ms/step - accuracy: 0.4228 - loss: 1.8595\n",
      "Epoch 19/20\n",
      "\u001b[1m351/352\u001b[0m \u001b[32m━━━━━━━━━━━━━━━━━━━\u001b[0m\u001b[37m━\u001b[0m \u001b[1m0s\u001b[0m 53ms/step - accuracy: 0.4228 - loss: 1.8593Epoch 19 - Perplejidad: 5.2026\n",
      "Sin mejora (2/5)\n",
      "\u001b[1m352/352\u001b[0m \u001b[32m━━━━━━━━━━━━━━━━━━━━\u001b[0m\u001b[37m\u001b[0m \u001b[1m20s\u001b[0m 57ms/step - accuracy: 0.4233 - loss: 1.8574\n",
      "Epoch 20/20\n",
      "\u001b[1m351/352\u001b[0m \u001b[32m━━━━━━━━━━━━━━━━━━━\u001b[0m\u001b[37m━\u001b[0m \u001b[1m0s\u001b[0m 54ms/step - accuracy: 0.4239 - loss: 1.8547Epoch 20 - Perplejidad: 5.1596\n",
      "Nueva mejor perplejidad: 5.1596\n",
      "\u001b[1m352/352\u001b[0m \u001b[32m━━━━━━━━━━━━━━━━━━━━\u001b[0m\u001b[37m\u001b[0m \u001b[1m20s\u001b[0m 58ms/step - accuracy: 0.4242 - loss: 1.8540\n",
      "Modelo SIMPLE entrenado exitosamente\n",
      "   - Tiempo: 402.18 segundos\n",
      "   - Épocas: 20\n",
      "   - Mejor perplejidad: 5.1596\n",
      "============================================================\n",
      " Entrenando modelo LSTM\n",
      "============================================================\n",
      "Datos de validación preparados: 9900 secuencias\n",
      "Epoch 1/20\n",
      "\u001b[1m352/352\u001b[0m \u001b[32m━━━━━━━━━━━━━━━━━━━━\u001b[0m\u001b[37m\u001b[0m \u001b[1m0s\u001b[0m 173ms/step - accuracy: 0.1993 - loss: 2.8926Epoch 1 - Perplejidad: 9.8412\n",
      "Nueva mejor perplejidad: 9.8412\n",
      "\u001b[1m352/352\u001b[0m \u001b[32m━━━━━━━━━━━━━━━━━━━━\u001b[0m\u001b[37m\u001b[0m \u001b[1m69s\u001b[0m 189ms/step - accuracy: 0.2399 - loss: 2.6776\n",
      "Epoch 2/20\n",
      "\u001b[1m352/352\u001b[0m \u001b[32m━━━━━━━━━━━━━━━━━━━━\u001b[0m\u001b[37m\u001b[0m \u001b[1m0s\u001b[0m 173ms/step - accuracy: 0.3131 - loss: 2.2947Epoch 2 - Perplejidad: 8.1822\n",
      "Nueva mejor perplejidad: 8.1822\n",
      "\u001b[1m352/352\u001b[0m \u001b[32m━━━━━━━━━━━━━━━━━━━━\u001b[0m\u001b[37m\u001b[0m \u001b[1m65s\u001b[0m 184ms/step - accuracy: 0.3214 - loss: 2.2480\n",
      "Epoch 3/20\n",
      "\u001b[1m352/352\u001b[0m \u001b[32m━━━━━━━━━━━━━━━━━━━━\u001b[0m\u001b[37m\u001b[0m \u001b[1m0s\u001b[0m 175ms/step - accuracy: 0.3415 - loss: 2.1534Epoch 3 - Perplejidad: 7.5245\n",
      "Nueva mejor perplejidad: 7.5245\n",
      "\u001b[1m352/352\u001b[0m \u001b[32m━━━━━━━━━━━━━━━━━━━━\u001b[0m\u001b[37m\u001b[0m \u001b[1m65s\u001b[0m 186ms/step - accuracy: 0.3468 - loss: 2.1329\n",
      "Epoch 4/20\n",
      "\u001b[1m352/352\u001b[0m \u001b[32m━━━━━━━━━━━━━━━━━━━━\u001b[0m\u001b[37m\u001b[0m \u001b[1m0s\u001b[0m 173ms/step - accuracy: 0.3604 - loss: 2.0835Epoch 4 - Perplejidad: 7.2156\n",
      "Nueva mejor perplejidad: 7.2156\n",
      "\u001b[1m352/352\u001b[0m \u001b[32m━━━━━━━━━━━━━━━━━━━━\u001b[0m\u001b[37m\u001b[0m \u001b[1m65s\u001b[0m 183ms/step - accuracy: 0.3641 - loss: 2.0697\n",
      "Epoch 5/20\n",
      "\u001b[1m352/352\u001b[0m \u001b[32m━━━━━━━━━━━━━━━━━━━━\u001b[0m\u001b[37m\u001b[0m \u001b[1m0s\u001b[0m 172ms/step - accuracy: 0.3735 - loss: 2.0342Epoch 5 - Perplejidad: 6.9604\n",
      "Nueva mejor perplejidad: 6.9604\n",
      "\u001b[1m352/352\u001b[0m \u001b[32m━━━━━━━━━━━━━━━━━━━━\u001b[0m\u001b[37m\u001b[0m \u001b[1m64s\u001b[0m 182ms/step - accuracy: 0.3758 - loss: 2.0250\n",
      "Epoch 6/20\n",
      "\u001b[1m352/352\u001b[0m \u001b[32m━━━━━━━━━━━━━━━━━━━━\u001b[0m\u001b[37m\u001b[0m \u001b[1m0s\u001b[0m 178ms/step - accuracy: 0.3820 - loss: 2.0000Epoch 6 - Perplejidad: 6.7519\n",
      "Nueva mejor perplejidad: 6.7519\n",
      "\u001b[1m352/352\u001b[0m \u001b[32m━━━━━━━━━━━━━━━━━━━━\u001b[0m\u001b[37m\u001b[0m \u001b[1m66s\u001b[0m 188ms/step - accuracy: 0.3840 - loss: 1.9925\n",
      "Epoch 7/20\n",
      "\u001b[1m352/352\u001b[0m \u001b[32m━━━━━━━━━━━━━━━━━━━━\u001b[0m\u001b[37m\u001b[0m \u001b[1m0s\u001b[0m 172ms/step - accuracy: 0.3899 - loss: 1.9716Epoch 7 - Perplejidad: 6.6256\n",
      "Nueva mejor perplejidad: 6.6256\n",
      "\u001b[1m352/352\u001b[0m \u001b[32m━━━━━━━━━━━━━━━━━━━━\u001b[0m\u001b[37m\u001b[0m \u001b[1m64s\u001b[0m 183ms/step - accuracy: 0.3915 - loss: 1.9653\n",
      "Epoch 8/20\n",
      "\u001b[1m352/352\u001b[0m \u001b[32m━━━━━━━━━━━━━━━━━━━━\u001b[0m\u001b[37m\u001b[0m \u001b[1m0s\u001b[0m 175ms/step - accuracy: 0.3960 - loss: 1.9477Epoch 8 - Perplejidad: 6.4523\n",
      "Nueva mejor perplejidad: 6.4523\n",
      "\u001b[1m352/352\u001b[0m \u001b[32m━━━━━━━━━━━━━━━━━━━━\u001b[0m\u001b[37m\u001b[0m \u001b[1m65s\u001b[0m 185ms/step - accuracy: 0.3974 - loss: 1.9427\n",
      "Epoch 9/20\n",
      "\u001b[1m352/352\u001b[0m \u001b[32m━━━━━━━━━━━━━━━━━━━━\u001b[0m\u001b[37m\u001b[0m \u001b[1m0s\u001b[0m 173ms/step - accuracy: 0.4020 - loss: 1.9268Epoch 9 - Perplejidad: 6.3712\n",
      "Nueva mejor perplejidad: 6.3712\n",
      "\u001b[1m352/352\u001b[0m \u001b[32m━━━━━━━━━━━━━━━━━━━━\u001b[0m\u001b[37m\u001b[0m \u001b[1m65s\u001b[0m 183ms/step - accuracy: 0.4033 - loss: 1.9219\n",
      "Epoch 10/20\n",
      "\u001b[1m352/352\u001b[0m \u001b[32m━━━━━━━━━━━━━━━━━━━━\u001b[0m\u001b[37m\u001b[0m \u001b[1m0s\u001b[0m 186ms/step - accuracy: 0.4078 - loss: 1.9063Epoch 10 - Perplejidad: 6.2382\n",
      "Nueva mejor perplejidad: 6.2382\n",
      "\u001b[1m352/352\u001b[0m \u001b[32m━━━━━━━━━━━━━━━━━━━━\u001b[0m\u001b[37m\u001b[0m \u001b[1m70s\u001b[0m 198ms/step - accuracy: 0.4091 - loss: 1.9026\n",
      "Epoch 11/20\n",
      "\u001b[1m352/352\u001b[0m \u001b[32m━━━━━━━━━━━━━━━━━━━━\u001b[0m\u001b[37m\u001b[0m \u001b[1m0s\u001b[0m 194ms/step - accuracy: 0.4133 - loss: 1.8880Epoch 11 - Perplejidad: 6.1935\n",
      "Nueva mejor perplejidad: 6.1935\n",
      "\u001b[1m352/352\u001b[0m \u001b[32m━━━━━━━━━━━━━━━━━━━━\u001b[0m\u001b[37m\u001b[0m \u001b[1m72s\u001b[0m 205ms/step - accuracy: 0.4144 - loss: 1.8843\n",
      "Epoch 12/20\n",
      "\u001b[1m352/352\u001b[0m \u001b[32m━━━━━━━━━━━━━━━━━━━━\u001b[0m\u001b[37m\u001b[0m \u001b[1m0s\u001b[0m 178ms/step - accuracy: 0.4180 - loss: 1.8721Epoch 12 - Perplejidad: 6.0546\n",
      "Nueva mejor perplejidad: 6.0546\n",
      "\u001b[1m352/352\u001b[0m \u001b[32m━━━━━━━━━━━━━━━━━━━━\u001b[0m\u001b[37m\u001b[0m \u001b[1m67s\u001b[0m 190ms/step - accuracy: 0.4194 - loss: 1.8674\n",
      "Epoch 13/20\n",
      "\u001b[1m352/352\u001b[0m \u001b[32m━━━━━━━━━━━━━━━━━━━━\u001b[0m\u001b[37m\u001b[0m \u001b[1m0s\u001b[0m 178ms/step - accuracy: 0.4230 - loss: 1.8557Epoch 13 - Perplejidad: 5.9283\n",
      "Nueva mejor perplejidad: 5.9283\n",
      "\u001b[1m352/352\u001b[0m \u001b[32m━━━━━━━━━━━━━━━━━━━━\u001b[0m\u001b[37m\u001b[0m \u001b[1m67s\u001b[0m 189ms/step - accuracy: 0.4242 - loss: 1.8514\n",
      "Epoch 14/20\n",
      "\u001b[1m352/352\u001b[0m \u001b[32m━━━━━━━━━━━━━━━━━━━━\u001b[0m\u001b[37m\u001b[0m \u001b[1m0s\u001b[0m 172ms/step - accuracy: 0.4275 - loss: 1.8397Epoch 14 - Perplejidad: 5.8632\n",
      "Nueva mejor perplejidad: 5.8632\n",
      "\u001b[1m352/352\u001b[0m \u001b[32m━━━━━━━━━━━━━━━━━━━━\u001b[0m\u001b[37m\u001b[0m \u001b[1m64s\u001b[0m 183ms/step - accuracy: 0.4286 - loss: 1.8360\n",
      "Epoch 15/20\n",
      "\u001b[1m352/352\u001b[0m \u001b[32m━━━━━━━━━━━━━━━━━━━━\u001b[0m\u001b[37m\u001b[0m \u001b[1m0s\u001b[0m 170ms/step - accuracy: 0.4322 - loss: 1.8251Epoch 15 - Perplejidad: 5.8088\n",
      "Nueva mejor perplejidad: 5.8088\n",
      "\u001b[1m352/352\u001b[0m \u001b[32m━━━━━━━━━━━━━━━━━━━━\u001b[0m\u001b[37m\u001b[0m \u001b[1m63s\u001b[0m 180ms/step - accuracy: 0.4329 - loss: 1.8218\n",
      "Epoch 16/20\n",
      "\u001b[1m352/352\u001b[0m \u001b[32m━━━━━━━━━━━━━━━━━━━━\u001b[0m\u001b[37m\u001b[0m \u001b[1m0s\u001b[0m 173ms/step - accuracy: 0.4362 - loss: 1.8109Epoch 16 - Perplejidad: 5.7967\n",
      "Nueva mejor perplejidad: 5.7967\n",
      "\u001b[1m352/352\u001b[0m \u001b[32m━━━━━━━━━━━━━━━━━━━━\u001b[0m\u001b[37m\u001b[0m \u001b[1m65s\u001b[0m 184ms/step - accuracy: 0.4368 - loss: 1.8084\n",
      "Epoch 17/20\n",
      "\u001b[1m352/352\u001b[0m \u001b[32m━━━━━━━━━━━━━━━━━━━━\u001b[0m\u001b[37m\u001b[0m \u001b[1m0s\u001b[0m 174ms/step - accuracy: 0.4396 - loss: 1.7983Epoch 17 - Perplejidad: 5.6795\n",
      "Nueva mejor perplejidad: 5.6795\n",
      "\u001b[1m352/352\u001b[0m \u001b[32m━━━━━━━━━━━━━━━━━━━━\u001b[0m\u001b[37m\u001b[0m \u001b[1m65s\u001b[0m 184ms/step - accuracy: 0.4404 - loss: 1.7956\n",
      "Epoch 18/20\n",
      "\u001b[1m352/352\u001b[0m \u001b[32m━━━━━━━━━━━━━━━━━━━━\u001b[0m\u001b[37m\u001b[0m \u001b[1m0s\u001b[0m 171ms/step - accuracy: 0.4431 - loss: 1.7867Epoch 18 - Perplejidad: 5.6269\n",
      "Nueva mejor perplejidad: 5.6269\n",
      "\u001b[1m352/352\u001b[0m \u001b[32m━━━━━━━━━━━━━━━━━━━━\u001b[0m\u001b[37m\u001b[0m \u001b[1m64s\u001b[0m 181ms/step - accuracy: 0.4440 - loss: 1.7835\n",
      "Epoch 19/20\n",
      "\u001b[1m352/352\u001b[0m \u001b[32m━━━━━━━━━━━━━━━━━━━━\u001b[0m\u001b[37m\u001b[0m \u001b[1m0s\u001b[0m 171ms/step - accuracy: 0.4464 - loss: 1.7753Epoch 19 - Perplejidad: 5.5828\n",
      "Nueva mejor perplejidad: 5.5828\n",
      "\u001b[1m352/352\u001b[0m \u001b[32m━━━━━━━━━━━━━━━━━━━━\u001b[0m\u001b[37m\u001b[0m \u001b[1m64s\u001b[0m 181ms/step - accuracy: 0.4473 - loss: 1.7721\n",
      "Epoch 20/20\n",
      "\u001b[1m352/352\u001b[0m \u001b[32m━━━━━━━━━━━━━━━━━━━━\u001b[0m\u001b[37m\u001b[0m \u001b[1m0s\u001b[0m 170ms/step - accuracy: 0.4494 - loss: 1.7639Epoch 20 - Perplejidad: 5.5497\n",
      "Nueva mejor perplejidad: 5.5497\n",
      "\u001b[1m352/352\u001b[0m \u001b[32m━━━━━━━━━━━━━━━━━━━━\u001b[0m\u001b[37m\u001b[0m \u001b[1m64s\u001b[0m 181ms/step - accuracy: 0.4502 - loss: 1.7609\n",
      "Modelo LSTM entrenado exitosamente\n",
      "   - Tiempo: 1312.89 segundos\n",
      "   - Épocas: 20\n",
      "   - Mejor perplejidad: 5.5497\n",
      "============================================================\n",
      " Entrenando modelo GRU\n",
      "============================================================\n",
      "Datos de validación preparados: 9900 secuencias\n",
      "Epoch 1/20\n",
      "\u001b[1m352/352\u001b[0m \u001b[32m━━━━━━━━━━━━━━━━━━━━\u001b[0m\u001b[37m\u001b[0m \u001b[1m0s\u001b[0m 154ms/step - accuracy: 0.2306 - loss: 2.7957Epoch 1 - Perplejidad: 8.2568\n",
      "Nueva mejor perplejidad: 8.2568\n",
      "\u001b[1m352/352\u001b[0m \u001b[32m━━━━━━━━━━━━━━━━━━━━\u001b[0m\u001b[37m\u001b[0m \u001b[1m62s\u001b[0m 168ms/step - accuracy: 0.2795 - loss: 2.4965\n",
      "Epoch 2/20\n",
      "\u001b[1m352/352\u001b[0m \u001b[32m━━━━━━━━━━━━━━━━━━━━\u001b[0m\u001b[37m\u001b[0m \u001b[1m0s\u001b[0m 148ms/step - accuracy: 0.3370 - loss: 2.1680Epoch 2 - Perplejidad: 7.2554\n",
      "Nueva mejor perplejidad: 7.2554\n",
      "\u001b[1m352/352\u001b[0m \u001b[32m━━━━━━━━━━━━━━━━━━━━\u001b[0m\u001b[37m\u001b[0m \u001b[1m56s\u001b[0m 158ms/step - accuracy: 0.3468 - loss: 2.1304\n",
      "Epoch 3/20\n",
      "\u001b[1m352/352\u001b[0m \u001b[32m━━━━━━━━━━━━━━━━━━━━\u001b[0m\u001b[37m\u001b[0m \u001b[1m0s\u001b[0m 149ms/step - accuracy: 0.3727 - loss: 2.0366Epoch 3 - Perplejidad: 6.6241\n",
      "Nueva mejor perplejidad: 6.6241\n",
      "\u001b[1m352/352\u001b[0m \u001b[32m━━━━━━━━━━━━━━━━━━━━\u001b[0m\u001b[37m\u001b[0m \u001b[1m56s\u001b[0m 159ms/step - accuracy: 0.3796 - loss: 2.0115\n",
      "Epoch 4/20\n",
      "\u001b[1m352/352\u001b[0m \u001b[32m━━━━━━━━━━━━━━━━━━━━\u001b[0m\u001b[37m\u001b[0m \u001b[1m0s\u001b[0m 149ms/step - accuracy: 0.3973 - loss: 1.9484Epoch 4 - Perplejidad: 6.2386\n",
      "Nueva mejor perplejidad: 6.2386\n",
      "\u001b[1m352/352\u001b[0m \u001b[32m━━━━━━━━━━━━━━━━━━━━\u001b[0m\u001b[37m\u001b[0m \u001b[1m56s\u001b[0m 158ms/step - accuracy: 0.4018 - loss: 1.9314\n",
      "Epoch 5/20\n",
      "\u001b[1m352/352\u001b[0m \u001b[32m━━━━━━━━━━━━━━━━━━━━\u001b[0m\u001b[37m\u001b[0m \u001b[1m0s\u001b[0m 150ms/step - accuracy: 0.4152 - loss: 1.8830Epoch 5 - Perplejidad: 5.9256\n",
      "Nueva mejor perplejidad: 5.9256\n",
      "\u001b[1m352/352\u001b[0m \u001b[32m━━━━━━━━━━━━━━━━━━━━\u001b[0m\u001b[37m\u001b[0m \u001b[1m56s\u001b[0m 159ms/step - accuracy: 0.4192 - loss: 1.8694\n",
      "Epoch 6/20\n",
      "\u001b[1m352/352\u001b[0m \u001b[32m━━━━━━━━━━━━━━━━━━━━\u001b[0m\u001b[37m\u001b[0m \u001b[1m0s\u001b[0m 152ms/step - accuracy: 0.4308 - loss: 1.8304Epoch 6 - Perplejidad: 5.6960\n",
      "Nueva mejor perplejidad: 5.6960\n",
      "\u001b[1m352/352\u001b[0m \u001b[32m━━━━━━━━━━━━━━━━━━━━\u001b[0m\u001b[37m\u001b[0m \u001b[1m57s\u001b[0m 161ms/step - accuracy: 0.4344 - loss: 1.8179\n",
      "Epoch 7/20\n",
      "\u001b[1m352/352\u001b[0m \u001b[32m━━━━━━━━━━━━━━━━━━━━\u001b[0m\u001b[37m\u001b[0m \u001b[1m0s\u001b[0m 153ms/step - accuracy: 0.4434 - loss: 1.7849Epoch 7 - Perplejidad: 5.5128\n",
      "Nueva mejor perplejidad: 5.5128\n",
      "\u001b[1m352/352\u001b[0m \u001b[32m━━━━━━━━━━━━━━━━━━━━\u001b[0m\u001b[37m\u001b[0m \u001b[1m57s\u001b[0m 162ms/step - accuracy: 0.4460 - loss: 1.7762\n",
      "Epoch 8/20\n",
      "\u001b[1m352/352\u001b[0m \u001b[32m━━━━━━━━━━━━━━━━━━━━\u001b[0m\u001b[37m\u001b[0m \u001b[1m0s\u001b[0m 150ms/step - accuracy: 0.4538 - loss: 1.7490Epoch 8 - Perplejidad: 5.3504\n",
      "Nueva mejor perplejidad: 5.3504\n",
      "\u001b[1m352/352\u001b[0m \u001b[32m━━━━━━━━━━━━━━━━━━━━\u001b[0m\u001b[37m\u001b[0m \u001b[1m56s\u001b[0m 159ms/step - accuracy: 0.4560 - loss: 1.7410\n",
      "Epoch 9/20\n",
      "\u001b[1m352/352\u001b[0m \u001b[32m━━━━━━━━━━━━━━━━━━━━\u001b[0m\u001b[37m\u001b[0m \u001b[1m0s\u001b[0m 150ms/step - accuracy: 0.4621 - loss: 1.7183Epoch 9 - Perplejidad: 5.2450\n",
      "Nueva mejor perplejidad: 5.2450\n",
      "\u001b[1m352/352\u001b[0m \u001b[32m━━━━━━━━━━━━━━━━━━━━\u001b[0m\u001b[37m\u001b[0m \u001b[1m56s\u001b[0m 159ms/step - accuracy: 0.4645 - loss: 1.7110\n",
      "Epoch 10/20\n",
      "\u001b[1m352/352\u001b[0m \u001b[32m━━━━━━━━━━━━━━━━━━━━\u001b[0m\u001b[37m\u001b[0m \u001b[1m0s\u001b[0m 151ms/step - accuracy: 0.4697 - loss: 1.6928Epoch 10 - Perplejidad: 5.1169\n",
      "Nueva mejor perplejidad: 5.1169\n",
      "\u001b[1m352/352\u001b[0m \u001b[32m━━━━━━━━━━━━━━━━━━━━\u001b[0m\u001b[37m\u001b[0m \u001b[1m56s\u001b[0m 160ms/step - accuracy: 0.4715 - loss: 1.6866\n",
      "Epoch 11/20\n",
      "\u001b[1m352/352\u001b[0m \u001b[32m━━━━━━━━━━━━━━━━━━━━\u001b[0m\u001b[37m\u001b[0m \u001b[1m0s\u001b[0m 154ms/step - accuracy: 0.4763 - loss: 1.6707Epoch 11 - Perplejidad: 5.0946\n",
      "Nueva mejor perplejidad: 5.0946\n",
      "\u001b[1m352/352\u001b[0m \u001b[32m━━━━━━━━━━━━━━━━━━━━\u001b[0m\u001b[37m\u001b[0m \u001b[1m58s\u001b[0m 163ms/step - accuracy: 0.4775 - loss: 1.6658\n",
      "Epoch 12/20\n",
      "\u001b[1m352/352\u001b[0m \u001b[32m━━━━━━━━━━━━━━━━━━━━\u001b[0m\u001b[37m\u001b[0m \u001b[1m0s\u001b[0m 154ms/step - accuracy: 0.4817 - loss: 1.6508Epoch 12 - Perplejidad: 4.9808\n",
      "Nueva mejor perplejidad: 4.9808\n",
      "\u001b[1m352/352\u001b[0m \u001b[32m━━━━━━━━━━━━━━━━━━━━\u001b[0m\u001b[37m\u001b[0m \u001b[1m58s\u001b[0m 164ms/step - accuracy: 0.4827 - loss: 1.6470\n",
      "Epoch 13/20\n",
      "\u001b[1m352/352\u001b[0m \u001b[32m━━━━━━━━━━━━━━━━━━━━\u001b[0m\u001b[37m\u001b[0m \u001b[1m0s\u001b[0m 155ms/step - accuracy: 0.4868 - loss: 1.6330Epoch 13 - Perplejidad: 4.9402\n",
      "Nueva mejor perplejidad: 4.9402\n",
      "\u001b[1m352/352\u001b[0m \u001b[32m━━━━━━━━━━━━━━━━━━━━\u001b[0m\u001b[37m\u001b[0m \u001b[1m58s\u001b[0m 165ms/step - accuracy: 0.4876 - loss: 1.6307\n",
      "Epoch 14/20\n",
      "\u001b[1m352/352\u001b[0m \u001b[32m━━━━━━━━━━━━━━━━━━━━\u001b[0m\u001b[37m\u001b[0m \u001b[1m0s\u001b[0m 155ms/step - accuracy: 0.4910 - loss: 1.6198Epoch 14 - Perplejidad: 4.9422\n",
      "Sin mejora (1/5)\n",
      "\u001b[1m352/352\u001b[0m \u001b[32m━━━━━━━━━━━━━━━━━━━━\u001b[0m\u001b[37m\u001b[0m \u001b[1m58s\u001b[0m 164ms/step - accuracy: 0.4918 - loss: 1.6164\n",
      "Epoch 15/20\n",
      "\u001b[1m352/352\u001b[0m \u001b[32m━━━━━━━━━━━━━━━━━━━━\u001b[0m\u001b[37m\u001b[0m \u001b[1m0s\u001b[0m 152ms/step - accuracy: 0.4950 - loss: 1.6046Epoch 15 - Perplejidad: 4.8582\n",
      "Nueva mejor perplejidad: 4.8582\n",
      "\u001b[1m352/352\u001b[0m \u001b[32m━━━━━━━━━━━━━━━━━━━━\u001b[0m\u001b[37m\u001b[0m \u001b[1m57s\u001b[0m 162ms/step - accuracy: 0.4956 - loss: 1.6024\n",
      "Epoch 16/20\n",
      "\u001b[1m352/352\u001b[0m \u001b[32m━━━━━━━━━━━━━━━━━━━━\u001b[0m\u001b[37m\u001b[0m \u001b[1m0s\u001b[0m 154ms/step - accuracy: 0.4981 - loss: 1.5933Epoch 16 - Perplejidad: 4.8334\n",
      "Nueva mejor perplejidad: 4.8334\n",
      "\u001b[1m352/352\u001b[0m \u001b[32m━━━━━━━━━━━━━━━━━━━━\u001b[0m\u001b[37m\u001b[0m \u001b[1m58s\u001b[0m 164ms/step - accuracy: 0.4990 - loss: 1.5905\n",
      "Epoch 17/20\n",
      "\u001b[1m352/352\u001b[0m \u001b[32m━━━━━━━━━━━━━━━━━━━━\u001b[0m\u001b[37m\u001b[0m \u001b[1m0s\u001b[0m 154ms/step - accuracy: 0.5009 - loss: 1.5833Epoch 17 - Perplejidad: 4.8055\n",
      "Nueva mejor perplejidad: 4.8055\n",
      "\u001b[1m352/352\u001b[0m \u001b[32m━━━━━━━━━━━━━━━━━━━━\u001b[0m\u001b[37m\u001b[0m \u001b[1m58s\u001b[0m 163ms/step - accuracy: 0.5022 - loss: 1.5798\n",
      "Epoch 18/20\n",
      "\u001b[1m352/352\u001b[0m \u001b[32m━━━━━━━━━━━━━━━━━━━━\u001b[0m\u001b[37m\u001b[0m \u001b[1m0s\u001b[0m 156ms/step - accuracy: 0.5041 - loss: 1.5724Epoch 18 - Perplejidad: 4.7754\n",
      "Nueva mejor perplejidad: 4.7754\n",
      "\u001b[1m352/352\u001b[0m \u001b[32m━━━━━━━━━━━━━━━━━━━━\u001b[0m\u001b[37m\u001b[0m \u001b[1m58s\u001b[0m 165ms/step - accuracy: 0.5048 - loss: 1.5701\n",
      "Epoch 19/20\n",
      "\u001b[1m352/352\u001b[0m \u001b[32m━━━━━━━━━━━━━━━━━━━━\u001b[0m\u001b[37m\u001b[0m \u001b[1m0s\u001b[0m 150ms/step - accuracy: 0.5070 - loss: 1.5622Epoch 19 - Perplejidad: 4.7588\n",
      "Nueva mejor perplejidad: 4.7588\n",
      "\u001b[1m352/352\u001b[0m \u001b[32m━━━━━━━━━━━━━━━━━━━━\u001b[0m\u001b[37m\u001b[0m \u001b[1m56s\u001b[0m 159ms/step - accuracy: 0.5074 - loss: 1.5605\n",
      "Epoch 20/20\n",
      "\u001b[1m352/352\u001b[0m \u001b[32m━━━━━━━━━━━━━━━━━━━━\u001b[0m\u001b[37m\u001b[0m \u001b[1m0s\u001b[0m 152ms/step - accuracy: 0.5096 - loss: 1.5538Epoch 20 - Perplejidad: 4.7408\n",
      "Nueva mejor perplejidad: 4.7408\n",
      "\u001b[1m352/352\u001b[0m \u001b[32m━━━━━━━━━━━━━━━━━━━━\u001b[0m\u001b[37m\u001b[0m \u001b[1m57s\u001b[0m 161ms/step - accuracy: 0.5101 - loss: 1.5519\n",
      "Modelo GRU entrenado exitosamente\n",
      "   - Tiempo: 1141.16 segundos\n",
      "   - Épocas: 20\n",
      "   - Mejor perplejidad: 4.7408\n",
      "Entrenamiento completado para todos los modelos\n"
     ]
    }
   ],
   "source": [
    "# Entrenar todos los modelos y comparar rendimiento\n",
    "print(\"Iniciando entrenamiento de modelos\")\n",
    "\n",
    "# Parámetros de entrenamiento\n",
    "epochs = 20\n",
    "batch_size = 256\n",
    "\n",
    "# Almacenar resultados\n",
    "training_results = {}\n",
    "training_histories = {}\n",
    "\n",
    "# Entrenar cada modelo\n",
    "for arch_name, model in models.items():\n",
    "    print(f\"{'='*60}\")\n",
    "    print(f\" Entrenando modelo {arch_name.upper()}\")\n",
    "    print(f\"{'='*60}\")\n",
    "\n",
    "    # Crear callback de perplejidad\n",
    "    history_ppl = []\n",
    "    perplexity_callback = PerplexityCallback(\n",
    "        val_data=tokenized_sentences_val,\n",
    "        history_ppl=history_ppl,\n",
    "        patience=5,\n",
    "        min_delta=0.01\n",
    "    )\n",
    "\n",
    "    # Entrenar modelo\n",
    "    start_time = time.time()\n",
    "\n",
    "    try:\n",
    "        history = model.fit(\n",
    "            X, y,\n",
    "            epochs=epochs,\n",
    "            batch_size=batch_size,\n",
    "            callbacks=[perplexity_callback],\n",
    "            verbose=1\n",
    "        )\n",
    "\n",
    "        training_time = time.time() - start_time\n",
    "\n",
    "        # Guardar resultados\n",
    "        training_results[arch_name] = {\n",
    "            'final_perplexity': history_ppl[-1] if history_ppl else np.inf,\n",
    "            'best_perplexity': min(history_ppl) if history_ppl else np.inf,\n",
    "            'training_time': training_time,\n",
    "            'epochs_trained': len(history_ppl),\n",
    "            'final_loss': history.history['loss'][-1],\n",
    "            'final_accuracy': history.history['accuracy'][-1]\n",
    "        }\n",
    "\n",
    "        training_histories[arch_name] = {\n",
    "            'perplexity': history_ppl,\n",
    "            'loss': history.history['loss'],\n",
    "            'accuracy': history.history['accuracy']\n",
    "        }\n",
    "\n",
    "        print(f\"Modelo {arch_name.upper()} entrenado exitosamente\")\n",
    "        print(f\"   - Tiempo: {training_time:.2f} segundos\")\n",
    "        print(f\"   - Épocas: {len(history_ppl)}\")\n",
    "        print(f\"   - Mejor perplejidad: {min(history_ppl):.4f}\")\n",
    "\n",
    "    except Exception as e:\n",
    "        print(f\"Error entrenando modelo {arch_name.upper()}: {e}\")\n",
    "        training_results[arch_name] = {\n",
    "            'final_perplexity': np.inf,\n",
    "            'best_perplexity': np.inf,\n",
    "            'training_time': 0,\n",
    "            'epochs_trained': 0,\n",
    "            'final_loss': np.inf,\n",
    "            'final_accuracy': 0\n",
    "        }\n",
    "\n",
    "print(f\"Entrenamiento completado para todos los modelos\")\n"
   ]
  },
  {
   "cell_type": "code",
   "execution_count": 90,
   "metadata": {
    "id": "wN8ZVo7187NG"
   },
   "outputs": [
    {
     "name": "stdout",
     "output_type": "stream",
     "text": [
      "Análisis comparativo de modelos entrenados\n",
      "================================================================================\n",
      "Resumen de resultados:\n",
      "        final_perplexity  best_perplexity  training_time  epochs_trained  \\\n",
      "simple            5.1596           5.1596       402.1799            20.0   \n",
      "lstm              5.5497           5.5497      1312.8854            20.0   \n",
      "gru               4.7408           4.7408      1141.1615            20.0   \n",
      "\n",
      "        final_loss  final_accuracy  \n",
      "simple      1.8540          0.4242  \n",
      "lstm        1.7609          0.4502  \n",
      "gru         1.5519          0.5101  \n",
      "Mejor modelo: GRU\n",
      "   - Mejor perplejidad: 4.7408\n",
      "   - Tiempo de entrenamiento: 1141.16s\n",
      "   - Épocas entrenadas: 20.0\n",
      "Análisis de eficiencia:\n",
      "   - SIMPLE: 0.01 perplejidad/segundo\n",
      "   - LSTM: 0.00 perplejidad/segundo\n",
      "   - GRU: 0.00 perplejidad/segundo\n"
     ]
    }
   ],
   "source": [
    "# Análisis comparativo de resultados\n",
    "print(\"Análisis comparativo de modelos entrenados\")\n",
    "print(\"=\"*80)\n",
    "\n",
    "# Crear DataFrame con resultados\n",
    "results_df = pd.DataFrame(training_results).T\n",
    "results_df = results_df.round(4)\n",
    "\n",
    "print(\"Resumen de resultados:\")\n",
    "print(results_df)\n",
    "\n",
    "# Identificar el mejor modelo\n",
    "best_model_name = results_df['best_perplexity'].idxmin()\n",
    "best_perplexity = results_df.loc[best_model_name, 'best_perplexity']\n",
    "\n",
    "print(f\"Mejor modelo: {best_model_name.upper()}\")\n",
    "print(f\"   - Mejor perplejidad: {best_perplexity:.4f}\")\n",
    "print(f\"   - Tiempo de entrenamiento: {results_df.loc[best_model_name, 'training_time']:.2f}s\")\n",
    "print(f\"   - Épocas entrenadas: {results_df.loc[best_model_name, 'epochs_trained']}\")\n",
    "\n",
    "# Análisis de eficiencia\n",
    "print(f\"Análisis de eficiencia:\")\n",
    "for arch in results_df.index:\n",
    "    efficiency = results_df.loc[arch, 'best_perplexity'] / results_df.loc[arch, 'training_time']\n",
    "    print(f\"   - {arch.upper()}: {efficiency:.2f} perplejidad/segundo\")\n"
   ]
  },
  {
   "cell_type": "code",
   "execution_count": 91,
   "metadata": {
    "id": "z2LzWKxS87NG"
   },
   "outputs": [
    {
     "data": {
      "image/png": "[encoded data removed]",
      "text/plain": [
       "<Figure size 1500x1200 with 4 Axes>"
      ]
     },
     "metadata": {},
     "output_type": "display_data"
    }
   ],
   "source": [
    "# Visualización de curvas de entrenamiento\n",
    "fig, axes = plt.subplots(2, 2, figsize=(15, 12))\n",
    "\n",
    "# Colores para cada modelo\n",
    "colors = {'simple': 'blue', 'lstm': 'red', 'gru': 'green'}\n",
    "\n",
    "# Gráfico 1: Perplejidad\n",
    "ax1 = axes[0, 0]\n",
    "for arch, history in training_histories.items():\n",
    "    if history['perplexity']:\n",
    "        epochs_range = range(1, len(history['perplexity']) + 1)\n",
    "        ax1.plot(epochs_range, history['perplexity'],\n",
    "                color=colors[arch], label=f'{arch.upper()}', linewidth=2)\n",
    "ax1.set_xlabel('Época')\n",
    "ax1.set_ylabel('Perplejidad')\n",
    "ax1.set_title('Evolución de la Perplejidad')\n",
    "ax1.legend()\n",
    "ax1.grid(True, alpha=0.3)\n",
    "\n",
    "# Gráfico 2: Loss\n",
    "ax2 = axes[0, 1]\n",
    "for arch, history in training_histories.items():\n",
    "    if history['loss']:\n",
    "        epochs_range = range(1, len(history['loss']) + 1)\n",
    "        ax2.plot(epochs_range, history['loss'],\n",
    "                color=colors[arch], label=f'{arch.upper()}', linewidth=2)\n",
    "ax2.set_xlabel('Época')\n",
    "ax2.set_ylabel('Loss')\n",
    "ax2.set_title('Evolución del Loss')\n",
    "ax2.legend()\n",
    "ax2.grid(True, alpha=0.3)\n",
    "\n",
    "# Gráfico 3: Accuracy\n",
    "ax3 = axes[1, 0]\n",
    "for arch, history in training_histories.items():\n",
    "    if history['accuracy']:\n",
    "        epochs_range = range(1, len(history['accuracy']) + 1)\n",
    "        ax3.plot(epochs_range, history['accuracy'],\n",
    "                color=colors[arch], label=f'{arch.upper()}', linewidth=2)\n",
    "ax3.set_xlabel('Época')\n",
    "ax3.set_ylabel('Accuracy')\n",
    "ax3.set_title('Evolución de la Accuracy')\n",
    "ax3.legend()\n",
    "ax3.grid(True, alpha=0.3)\n",
    "\n",
    "# Gráfico 4: Comparación de métricas finales\n",
    "ax4 = axes[1, 1]\n",
    "metrics = ['best_perplexity', 'final_accuracy', 'training_time']\n",
    "x_pos = np.arange(len(architectures))\n",
    "width = 0.25\n",
    "\n",
    "for i, metric in enumerate(metrics):\n",
    "    values = [results_df.loc[arch, metric] for arch in architectures]\n",
    "    # Normalizar para visualización\n",
    "    if metric == 'best_perplexity':\n",
    "        values = [v for v in values if v != np.inf]\n",
    "        if values:\n",
    "            max_val = max(values)\n",
    "            values = [v/max_val for v in values]\n",
    "    elif metric == 'training_time':\n",
    "        max_val = max(values)\n",
    "        values = [v/max_val for v in values]\n",
    "\n",
    "    ax4.bar(x_pos + i*width, values, width,\n",
    "           label=metric.replace('_', ' ').title(), alpha=0.7)\n",
    "\n",
    "ax4.set_xlabel('Arquitectura')\n",
    "ax4.set_ylabel('Valor Normalizado')\n",
    "ax4.set_title('Comparación de Métricas (Normalizadas)')\n",
    "ax4.set_xticks(x_pos + width)\n",
    "ax4.set_xticklabels([arch.upper() for arch in architectures])\n",
    "ax4.legend()\n",
    "ax4.grid(True, alpha=0.3)\n",
    "\n",
    "plt.tight_layout()\n",
    "plt.show()\n"
   ]
  },
  {
   "cell_type": "markdown",
   "metadata": {
    "id": "5GTvZ8Mh87NG"
   },
   "source": [
    "---\n",
    "## **8. Estrategias de Generación de Texto**\n",
    "\n",
    "Se evaluaron distintas estrategias de generación de texto con el objetivo de equilibrar la coherencia y la creatividad de las secuencias producidas por el modelo. En primer lugar, se implementó el método Greedy Search, que selecciona en cada paso el carácter con mayor probabilidad. Este enfoque se caracteriza por su simplicidad y rapidez, aunque tiende a generar textos repetitivos y con poca diversidad, ya que no explora alternativas posibles.\n",
    "\n",
    "Posteriormente, se probó el Beam Search determinístico, que mantiene las k mejores secuencias a lo largo del proceso de generación. Esta estrategia mejora la calidad y coherencia del texto, al explorar múltiples opciones antes de decidir, aunque implica un mayor costo computacional y puede resultar conservadora en algunos casos.\n",
    "\n",
    "Finalmente, se incorporó el Beam Search estocástico, que introduce un muestreo probabilístico controlado por un parámetro de temperatura. Con valores de temperatura bajos (T < 1), el modelo se comporta de forma más conservadora y precisa, mientras que con temperaturas altas (T > 1) produce resultados más creativos y variados, aunque menos predecibles. Este método ofrece un buen balance entre exploración y coherencia, permitiendo ajustar la generación según el tipo de texto deseado."
   ]
  },
  {
   "cell_type": "code",
   "execution_count": 92,
   "metadata": {
    "id": "cZk1vN0v87NG"
   },
   "outputs": [],
   "source": [
    "def encode_text(text, max_length=max_context_size):\n",
    "    \"\"\"Convierte texto a secuencia de índices con padding (compatible con Embedding)\"\"\"\n",
    "    encoded = [char2idx.get(char, 0) for char in text.lower()]\n",
    "\n",
    "    # Padding o recorte\n",
    "    if len(encoded) < max_length:\n",
    "        encoded = [0] * (max_length - len(encoded)) + encoded\n",
    "    else:\n",
    "        encoded = encoded[-max_length:]\n",
    "\n",
    "    # Devuelve forma (1, max_length)\n",
    "    return np.array(encoded).reshape(1, -1)\n",
    "\n",
    "def decode_sequence(sequence):\n",
    "    \"\"\"Convierte secuencia de índices a texto\"\"\"\n",
    "    return ''.join([idx2char.get(idx, '') for idx in sequence])\n"
   ]
  },
  {
   "cell_type": "code",
   "execution_count": 93,
   "metadata": {
    "id": "cDGRvHU_87NG"
   },
   "outputs": [
    {
     "name": "stdout",
     "output_type": "stream",
     "text": [
      " Función de generación greedy implementada\n"
     ]
    }
   ],
   "source": [
    "# 1. Greedy Search\n",
    "def greedy_generate(model, seed_text, max_length=50):\n",
    "    \"\"\"\n",
    "    Genera texto usando greedy search (siempre el carácter más probable)\n",
    "    \"\"\"\n",
    "    generated_text = seed_text\n",
    "    current_sequence = seed_text\n",
    "\n",
    "    for _ in range(max_length):\n",
    "        # Codificar secuencia actual\n",
    "        encoded = encode_text(current_sequence)\n",
    "\n",
    "        # Obtener predicción\n",
    "        predictions = model.predict(encoded, verbose=0)\n",
    "        next_char_idx = np.argmax(predictions[0, -1, :])\n",
    "        next_char = idx2char[next_char_idx]\n",
    "\n",
    "        # Agregar carácter generado\n",
    "        generated_text += next_char\n",
    "        current_sequence += next_char\n",
    "\n",
    "        # Mantener solo el contexto necesario\n",
    "        if len(current_sequence) > max_context_size:\n",
    "            current_sequence = current_sequence[-max_context_size:]\n",
    "\n",
    "    return generated_text\n",
    "\n",
    "print(\" Función de generación greedy implementada\")\n"
   ]
  },
  {
   "cell_type": "code",
   "execution_count": 94,
   "metadata": {
    "id": "AuKYKH4I87NG"
   },
   "outputs": [],
   "source": [
    "# 2. Beam Search Determinístico\n",
    "def deterministic_beam_search(model, seed_text, num_beams=5, max_length=50):\n",
    "    \"\"\"\n",
    "    Genera texto usando beam search determinístico\n",
    "    \"\"\"\n",
    "    from scipy.special import softmax\n",
    "\n",
    "    # Inicializar con la secuencia de entrada\n",
    "    current_sequences = [seed_text]\n",
    "    current_scores = [0.0]  # log probabilities\n",
    "\n",
    "    for step in range(max_length):\n",
    "        new_sequences = []\n",
    "        new_scores = []\n",
    "\n",
    "        for seq, score in zip(current_sequences, current_scores):\n",
    "            # Codificar secuencia actual\n",
    "            encoded = encode_text(seq)\n",
    "\n",
    "            # Obtener predicciones\n",
    "            predictions = model.predict(encoded, verbose=0)\n",
    "            char_probs = predictions[0, -1, :]\n",
    "\n",
    "            # Obtener los num_beams mejores caracteres\n",
    "            top_indices = np.argsort(char_probs)[-num_beams:]\n",
    "\n",
    "            for char_idx in top_indices:\n",
    "                char_prob = char_probs[char_idx]\n",
    "                new_seq = seq + idx2char[char_idx]\n",
    "                new_score = score + np.log(char_prob + 1e-10)\n",
    "\n",
    "                new_sequences.append(new_seq)\n",
    "                new_scores.append(new_score)\n",
    "\n",
    "        # Seleccionar las num_beams mejores secuencias\n",
    "        if len(new_sequences) > num_beams:\n",
    "            top_indices = np.argsort(new_scores)[-num_beams:]\n",
    "            current_sequences = [new_sequences[i] for i in top_indices]\n",
    "            current_scores = [new_scores[i] for i in top_indices]\n",
    "        else:\n",
    "            current_sequences = new_sequences\n",
    "            current_scores = new_scores\n",
    "\n",
    "    # Retornar la mejor secuencia\n",
    "    best_idx = np.argmax(current_scores)\n",
    "    return current_sequences[best_idx]\n"
   ]
  },
  {
   "cell_type": "code",
   "execution_count": 95,
   "metadata": {
    "id": "Iyk_m9vF87NG"
   },
   "outputs": [],
   "source": [
    "# 3. Beam Search Estocástico con Temperatura\n",
    "def stochastic_beam_search(model, seed_text, num_beams=5, max_length=50, temperature=1.0):\n",
    "    \"\"\"\n",
    "    Genera texto usando beam search estocástico con temperatura\n",
    "    \"\"\"\n",
    "    from scipy.special import softmax\n",
    "\n",
    "    # Inicializar con la secuencia de entrada\n",
    "    current_sequences = [seed_text]\n",
    "    current_scores = [0.0]  # log probabilities\n",
    "\n",
    "    for step in range(max_length):\n",
    "        new_sequences = []\n",
    "        new_scores = []\n",
    "\n",
    "        for seq, score in zip(current_sequences, current_scores):\n",
    "            # Codificar secuencia actual\n",
    "            encoded = encode_text(seq)\n",
    "\n",
    "            # Obtener predicciones\n",
    "            predictions = model.predict(encoded, verbose=0)\n",
    "            char_probs = predictions[0, -1, :]\n",
    "\n",
    "            # Aplicar temperatura\n",
    "            char_probs_temp = char_probs / temperature\n",
    "            char_probs_temp = softmax(char_probs_temp)\n",
    "\n",
    "            # Muestreo estocástico\n",
    "            char_indices = np.random.choice(\n",
    "                len(char_probs_temp),\n",
    "                size=min(num_beams, len(char_probs_temp)),\n",
    "                p=char_probs_temp,\n",
    "                replace=False\n",
    "            )\n",
    "\n",
    "            for char_idx in char_indices:\n",
    "                char_prob = char_probs[char_idx]\n",
    "                new_seq = seq + idx2char[char_idx]\n",
    "                new_score = score + np.log(char_prob + 1e-10)\n",
    "\n",
    "                new_sequences.append(new_seq)\n",
    "                new_scores.append(new_score)\n",
    "\n",
    "        # Seleccionar las num_beams mejores secuencias\n",
    "        if len(new_sequences) > num_beams:\n",
    "            top_indices = np.argsort(new_scores)[-num_beams:]\n",
    "            current_sequences = [new_sequences[i] for i in top_indices]\n",
    "            current_scores = [new_scores[i] for i in top_indices]\n",
    "        else:\n",
    "            current_sequences = new_sequences\n",
    "            current_scores = new_scores\n",
    "\n",
    "    # Retornar la mejor secuencia\n",
    "    best_idx = np.argmax(current_scores)\n",
    "    return current_sequences[best_idx]\n"
   ]
  },
  {
   "cell_type": "code",
   "execution_count": 96,
   "metadata": {
    "id": "Y5M8LNDA87NG"
   },
   "outputs": [
    {
     "name": "stdout",
     "output_type": "stream",
     "text": [
      "Comparando estrategias de generación\n",
      "Texto semilla: 'en un lugar de la mancha'\n",
      " Modelo utilizado: GRU\n",
      "================================================================================\n",
      "GREEDY SEARCH:\n",
      "Resultado: en un lugar de la mancha, y así, se le dijo el cura de la venta de la venta de la venta de la venta de la venta de la venta \n",
      "BEAM SEARCH DETERMINÍSTICO:\n",
      "Resultado: en un lugar de la mancha, porque estaban de las armas de su caballero, que estaba de la venta de la venta de la venta de la \n",
      "BEAM SEARCH ESTOCÁSTICO:\n",
      "Temperatura 0.5:\n",
      "   Resultado: en un lugar de la manchaceo, ni era si camo borderé y forquién ros la ama en élles demado, en un bien imigo; y. éstepase roc\n",
      "Temperatura 1.0:\n",
      "   Resultado: en un lugar de la manchan atadó estefrecerianará a vientis flisorday quel poy sinros en tuncearadome. y el molo diriomes. po\n",
      "Temperatura 1.5:\n",
      "   Resultado: en un lugar de la mancharar en five igarri acesa caieco; y: a un suferbontía he dónfese ami emaranda hazordadró, y hatenzamo\n",
      "Temperatura 2.0:\n",
      "   Resultado: en un lugar de la manchad (h blen feyearojobajo.; bombée capíndió -o tí! cazo desadadoraje, repletinea! dijos flomín a tulca\n",
      "================================================================================\n",
      " Comparación de estrategias completada\n"
     ]
    }
   ],
   "source": [
    "# Comparación de estrategias de generación\n",
    "print(\"Comparando estrategias de generación\")\n",
    "\n",
    "# Usar el mejor modelo para las pruebas\n",
    "best_model = models[best_model_name]\n",
    "seed_text = \"en un lugar de la mancha\"\n",
    "\n",
    "print(f\"Texto semilla: '{seed_text}'\")\n",
    "print(f\" Modelo utilizado: {best_model_name.upper()}\")\n",
    "print(\"=\"*80)\n",
    "\n",
    "# 1. Greedy Search\n",
    "print(\"GREEDY SEARCH:\")\n",
    "greedy_result = greedy_generate(best_model, seed_text, max_length=100)\n",
    "print(f\"Resultado: {greedy_result}\")\n",
    "\n",
    "# 2. Beam Search Determinístico\n",
    "print(\"BEAM SEARCH DETERMINÍSTICO:\")\n",
    "beam_det_result = deterministic_beam_search(best_model, seed_text, num_beams=5, max_length=100)\n",
    "print(f\"Resultado: {beam_det_result}\")\n",
    "\n",
    "# 3. Beam Search Estocástico con diferentes temperaturas\n",
    "print(\"BEAM SEARCH ESTOCÁSTICO:\")\n",
    "temperatures = [0.5, 1.0, 1.5, 2.0]\n",
    "\n",
    "for temp in temperatures:\n",
    "    print(f\"Temperatura {temp}:\")\n",
    "    beam_sto_result = stochastic_beam_search(\n",
    "        best_model, seed_text,\n",
    "        num_beams=5, max_length=100, temperature=temp\n",
    "    )\n",
    "    print(f\"   Resultado: {beam_sto_result}\")\n",
    "\n",
    "print(\"=\"*80)\n",
    "print(\" Comparación de estrategias completada\")\n"
   ]
  },
  {
   "cell_type": "markdown",
   "metadata": {
    "id": "bYy5jS-c87NG"
   },
   "source": [
    "---\n",
    "## **9. Interfaz Interactiva con Gradio**\n",
    "\n",
    "Para facilitar la interacción con el modelo y evaluar de forma práctica los resultados de generación, se desarrolló una interfaz interactiva utilizando Gradio. Esta herramienta ofrece una gran interactividad, permitiendo probar el modelo en tiempo real y visualizar los resultados de manera inmediata. Su simplicidad y flexibilidad la convierten en una opción ideal para este tipo de proyectos, ya que permite personalizar la interfaz con facilidad y comparar diferentes configuraciones de forma intuitiva.\n",
    "\n",
    "En la aplicación implementada, se incluyeron diversas funcionalidades que permiten explorar el comportamiento del modelo bajo distintas condiciones. El usuario puede seleccionar el tipo de red neuronal (SimpleRNN, LSTM o GRU), elegir la estrategia de generación (Greedy, Beam Search determinístico o estocástico), y ajustar parámetros clave como la temperatura o la longitud del texto a generar. Además, la visualización en tiempo real facilita la comparación directa entre modelos y estrategias, ofreciendo una comprensión más clara del impacto de cada configuración sobre la calidad del texto generado.\n"
   ]
  },
  {
   "cell_type": "code",
   "execution_count": 97,
   "metadata": {
    "id": "zMDxOyBm87NG"
   },
   "outputs": [
    {
     "name": "stdout",
     "output_type": "stream",
     "text": [
      "Gradio ya está instalado\n"
     ]
    }
   ],
   "source": [
    "# Instalar Gradio si no está disponible\n",
    "try:\n",
    "    import gradio as gr\n",
    "    print(\"Gradio ya está instalado\")\n",
    "except ImportError:\n",
    "    print(\"Instalando Gradio...\")\n",
    "    import subprocess\n",
    "    subprocess.check_call([\"pip\", \"install\", \"gradio\"])\n",
    "    import gradio as gr\n",
    "    print(\"Gradio instalado correctamente\")\n"
   ]
  },
  {
   "cell_type": "code",
   "execution_count": 98,
   "metadata": {
    "id": "8Gb-BwM887NG"
   },
   "outputs": [],
   "source": [
    "# Función principal para la interfaz Gradio\n",
    "def generate_text_interface(seed_text, model_choice, generation_method,\n",
    "                          temperature, max_length, num_beams):\n",
    "    \"\"\"\n",
    "    Función principal para la interfaz de generación de texto\n",
    "    \"\"\"\n",
    "    try:\n",
    "        # Seleccionar modelo\n",
    "        model = models[model_choice]\n",
    "\n",
    "        # Generar texto según el método seleccionado\n",
    "        if generation_method == \"Greedy Search\":\n",
    "            result = greedy_generate(model, seed_text, max_length)\n",
    "        elif generation_method == \"Beam Search Determinístico\":\n",
    "            result = deterministic_beam_search(model, seed_text, num_beams, max_length)\n",
    "        elif generation_method == \"Beam Search Estocástico\":\n",
    "            result = stochastic_beam_search(model, seed_text, num_beams, max_length, temperature)\n",
    "        else:\n",
    "            result = \"Método no válido\"\n",
    "\n",
    "        # Formatear resultado\n",
    "        output = f\"\"\"\n",
    "**Texto generado:**\n",
    "{result}\n",
    "\n",
    "**Parámetros utilizados:**\n",
    "- Modelo: {model_choice.upper()}\n",
    "- Método: {generation_method}\n",
    "- Temperatura: {temperature}\n",
    "- Longitud máxima: {max_length}\n",
    "- Beam size: {num_beams}\n",
    "        \"\"\"\n",
    "\n",
    "        return output\n",
    "\n",
    "    except Exception as e:\n",
    "        return f\"Error en la generación: {str(e)}\"\n"
   ]
  },
  {
   "cell_type": "code",
   "execution_count": 99,
   "metadata": {
    "id": "PRwqVkYN87NG"
   },
   "outputs": [
    {
     "name": "stdout",
     "output_type": "stream",
     "text": [
      "Creando interfaz Gradio\n",
      "Interfaz Gradio creada\n",
      "Para lanzar la interfaz, ejecuta: interface.launch()\n"
     ]
    },
    {
     "name": "stderr",
     "output_type": "stream",
     "text": [
      "/Users/dcanal1820/miniforge/lib/python3.12/site-packages/gradio/interface.py:415: UserWarning: The `allow_flagging` parameter in `Interface` is deprecated. Use `flagging_mode` instead.\n",
      "  warnings.warn(\n"
     ]
    }
   ],
   "source": [
    "# Crear interfaz Gradio\n",
    "print(\"Creando interfaz Gradio\")\n",
    "\n",
    "# Definir componentes de la interfaz\n",
    "interface = gr.Interface(\n",
    "    fn=generate_text_interface,\n",
    "    inputs=[\n",
    "        gr.Textbox(\n",
    "            label=\"Texto semilla\",\n",
    "            value=\"en un lugar de la mancha\",\n",
    "            placeholder=\"Escribe el texto inicial aquí...\"\n",
    "        ),\n",
    "        gr.Dropdown(\n",
    "            choices=[\"simple\", \"lstm\", \"gru\"],\n",
    "            value=\"lstm\",\n",
    "            label=\"Modelo RNN\"\n",
    "        ),\n",
    "        gr.Dropdown(\n",
    "            choices=[\"Greedy Search\", \"Beam Search Determinístico\", \"Beam Search Estocástico\"],\n",
    "            value=\"Greedy Search\",\n",
    "            label=\"Método de generación\"\n",
    "        ),\n",
    "        gr.Slider(\n",
    "            minimum=0.1,\n",
    "            maximum=3.0,\n",
    "            value=1.0,\n",
    "            step=0.1,\n",
    "            label=\"Temperatura (solo para Beam Search Estocástico)\"\n",
    "        ),\n",
    "        gr.Slider(\n",
    "            minimum=10,\n",
    "            maximum=200,\n",
    "            value=100,\n",
    "            step=10,\n",
    "            label=\"Longitud máxima de generación\"\n",
    "        ),\n",
    "        gr.Slider(\n",
    "            minimum=2,\n",
    "            maximum=10,\n",
    "            value=5,\n",
    "            step=1,\n",
    "            label=\"Tamaño del beam (solo para Beam Search)\"\n",
    "        )\n",
    "    ],\n",
    "    outputs=gr.Markdown(label=\"Texto generado\"),\n",
    "    title=\"🤖 Generador de Texto con RNN - El Quijote\",\n",
    "    description=\"\"\"\n",
    "    **Generador de texto basado en redes neuronales recurrentes entrenado con 'El Quijote'**\n",
    "\n",
    "    **Instrucciones:**\n",
    "    1. Escribe un texto semilla en español\n",
    "    2. Selecciona el modelo RNN (SimpleRNN, LSTM, o GRU)\n",
    "    3. Elige el método de generación\n",
    "    4. Ajusta los parámetros según sea necesario\n",
    "    5. Haz clic en \"Submit\" para generar texto\n",
    "\n",
    "    **Métodos de generación:**\n",
    "    - **Greedy Search**: Rápido y determinístico\n",
    "    - **Beam Search Determinístico**: Mejor calidad, explora múltiples opciones\n",
    "    - **Beam Search Estocástico**: Más creativo, controlable con temperatura\n",
    "    \"\"\",\n",
    "    theme=\"default\",\n",
    "    allow_flagging=\"never\"\n",
    ")\n",
    "\n",
    "print(\"Interfaz Gradio creada\")\n",
    "print(\"Para lanzar la interfaz, ejecuta: interface.launch()\")\n"
   ]
  },
  {
   "cell_type": "markdown",
   "metadata": {
    "id": "YwWL-oFH87NG"
   },
   "source": [
    "---\n",
    "## **10. Análisis Comparativo y Conclusiones**"
   ]
  },
  {
   "cell_type": "code",
   "execution_count": 100,
   "metadata": {
    "id": "hYqKbQhe87NG"
   },
   "outputs": [
    {
     "name": "stdout",
     "output_type": "stream",
     "text": [
      "ANÁLISIS COMPARATIVO DETALLADO\n",
      "================================================================================\n",
      "COMPARACIÓN DE ARQUITECTURAS RNN:\n",
      "--------------------------------------------------\n",
      "SIMPLE:\n",
      "   • Parámetros: 27,306\n",
      "   • Mejor perplejidad: 5.1596\n",
      "   • Tiempo entrenamiento: 402.18s\n",
      "   • Épocas entrenadas: 20\n",
      "   • Accuracy final: 0.4242\n",
      "LSTM:\n",
      "   • Parámetros: 92,970\n",
      "   • Mejor perplejidad: 5.5497\n",
      "   • Tiempo entrenamiento: 1312.89s\n",
      "   • Épocas entrenadas: 20\n",
      "   • Accuracy final: 0.4502\n",
      "GRU:\n",
      "   • Parámetros: 71,466\n",
      "   • Mejor perplejidad: 4.7408\n",
      "   • Tiempo entrenamiento: 1141.16s\n",
      "   • Épocas entrenadas: 20\n",
      "   • Accuracy final: 0.5101\n",
      "ANÁLISIS DE EFICIENCIA:\n",
      "--------------------------------------------------\n",
      "Ranking por eficiencia (perplejidad/tiempo):\n",
      "   1. GRU: 0.0042 (perplejidad: 4.7408)\n",
      "   2. LSTM: 0.0042 (perplejidad: 5.5497)\n",
      "   3. SIMPLE: 0.0128 (perplejidad: 5.1596)\n",
      "ANÁLISIS DE CONVERGENCIA:\n",
      "--------------------------------------------------\n",
      "SIMPLE: 34.13% de mejora en perplejidad\n",
      "LSTM: 43.61% de mejora en perplejidad\n",
      "GRU: 42.58% de mejora en perplejidad\n",
      "================================================================================\n"
     ]
    }
   ],
   "source": [
    "# Análisis detallado de resultados\n",
    "print(\"ANÁLISIS COMPARATIVO DETALLADO\")\n",
    "print(\"=\"*80)\n",
    "\n",
    "# 1. Análisis de arquitecturas RNN\n",
    "print(\"COMPARACIÓN DE ARQUITECTURAS RNN:\")\n",
    "print(\"-\" * 50)\n",
    "\n",
    "for arch, results in training_results.items():\n",
    "    print(f\"{arch.upper()}:\")\n",
    "    print(f\"   • Parámetros: {models[arch].count_params():,}\")\n",
    "    print(f\"   • Mejor perplejidad: {results['best_perplexity']:.4f}\")\n",
    "    print(f\"   • Tiempo entrenamiento: {results['training_time']:.2f}s\")\n",
    "    print(f\"   • Épocas entrenadas: {results['epochs_trained']}\")\n",
    "    print(f\"   • Accuracy final: {results['final_accuracy']:.4f}\")\n",
    "\n",
    "# 2. Análisis de eficiencia\n",
    "print(f\"ANÁLISIS DE EFICIENCIA:\")\n",
    "print(\"-\" * 50)\n",
    "\n",
    "efficiency_analysis = []\n",
    "for arch, results in training_results.items():\n",
    "    if results['training_time'] > 0:\n",
    "        efficiency = results['best_perplexity'] / results['training_time']\n",
    "        efficiency_analysis.append((arch, efficiency, results['best_perplexity']))\n",
    "\n",
    "efficiency_analysis.sort(key=lambda x: x[1])  # Ordenar por eficiencia\n",
    "\n",
    "print(\"Ranking por eficiencia (perplejidad/tiempo):\")\n",
    "for i, (arch, eff, perp) in enumerate(efficiency_analysis, 1):\n",
    "    print(f\"   {i}. {arch.upper()}: {eff:.4f} (perplejidad: {perp:.4f})\")\n",
    "\n",
    "# 3. Análisis de convergencia\n",
    "print(f\"ANÁLISIS DE CONVERGENCIA:\")\n",
    "print(\"-\" * 50)\n",
    "\n",
    "for arch, history in training_histories.items():\n",
    "    if history['perplexity']:\n",
    "        initial_ppl = history['perplexity'][0]\n",
    "        final_ppl = history['perplexity'][-1]\n",
    "        improvement = ((initial_ppl - final_ppl) / initial_ppl) * 100\n",
    "        print(f\"{arch.upper()}: {improvement:.2f}% de mejora en perplejidad\")\n",
    "\n",
    "print(\"=\"*80)\n"
   ]
  },
  {
   "cell_type": "markdown",
   "metadata": {
    "id": "-qLXzy9287NG"
   },
   "source": [
    "## **Conclusiones**\n",
    "\n",
    "El desarrollo del modelo de generación de texto permitió comparar distintas arquitecturas RNN, estrategias de tokenización y métodos de generación, extrayendo conclusiones relevantes sobre su rendimiento y aplicabilidad. En general, la arquitectura LSTM demostró ofrecer los mejores resultados en tareas de generación de texto, especialmente al capturar dependencias largas y mantener coherencia en las secuencias. Por su parte, la GRU se destacó por lograr un buen equilibrio entre rendimiento y eficiencia computacional, mientras que la SimpleRNN, si bien es más sencilla, mostró limitaciones para modelar estructuras complejas.\n",
    "\n",
    "La tokenización por caracteres resultó una elección adecuada para este proyecto, ya que permitió trabajar con un vocabulario reducido y evitar problemas de palabras desconocidas (OOV). Su flexibilidad facilitó la generación de nuevos términos, aunque a costa de mayores longitudes de secuencia y un incremento en el costo computacional.\n",
    "\n",
    "Respecto a las estrategias de generación, se observó que el Greedy Search ofrece rapidez pero genera textos repetitivos, mientras que el Beam Search determinístico mejora la calidad al explorar múltiples alternativas. Por último, el Beam Search estocástico proporcionó resultados más creativos y variados, siendo especialmente útil cuando se busca un equilibrio entre coherencia y originalidad, controlable mediante el parámetro de temperatura.\n"
   ]
  }
 ],
 "metadata": {
  "colab": {
   "provenance": []
  },
  "kernelspec": {
   "display_name": "base",
   "language": "python",
   "name": "python3"
  },
  "language_info": {
   "codemirror_mode": {
    "name": "ipython",
    "version": 3
   },
   "file_extension": ".py",
   "mimetype": "text/x-python",
   "name": "python",
   "nbconvert_exporter": "python",
   "pygments_lexer": "ipython3",
   "version": "3.12.11"
  }
 },
 "nbformat": 4,
 "nbformat_minor": 0
}
